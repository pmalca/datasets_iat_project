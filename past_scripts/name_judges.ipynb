{
 "cells": [
  {
   "cell_type": "code",
   "execution_count": 1,
   "metadata": {},
   "outputs": [
    {
     "name": "stderr",
     "output_type": "stream",
     "text": [
      "d:\\Programas\\anaconda3\\envs\\datasets_iat\\Lib\\site-packages\\tqdm\\auto.py:21: TqdmWarning: IProgress not found. Please update jupyter and ipywidgets. See https://ipywidgets.readthedocs.io/en/stable/user_install.html\n",
      "  from .autonotebook import tqdm as notebook_tqdm\n"
     ]
    }
   ],
   "source": [
    "import pandas as pd\n",
    "import pandas as pd\n",
    "import numpy as np\n",
    "from transformers import AutoModelForSequenceClassification\n",
    "from transformers import TextClassificationPipeline\n",
    "from transformers import AutoTokenizer  # Or BertTokenizer\n",
    "import torch"
   ]
  },
  {
   "cell_type": "code",
   "execution_count": 4,
   "metadata": {},
   "outputs": [],
   "source": [
    "judgements_1 = pd.read_csv(r'D:\\Proyectos\\amag\\classification\\non_appealed_judgements_2018.csv')"
   ]
  },
  {
   "cell_type": "code",
   "execution_count": 5,
   "metadata": {},
   "outputs": [],
   "source": [
    "import numpy as np\n",
    "\n",
    "# Assuming df is your dataframe and 'column_name' is the column you want to check\n",
    "judgements_1['judge_from_opinion'] = judgements_1['judge_from_opinion'].apply(lambda x: np.nan if isinstance(x, str) and len(x) > 40 else x)"
   ]
  },
  {
   "cell_type": "code",
   "execution_count": null,
   "metadata": {},
   "outputs": [],
   "source": [
    "def remove_special_chars(text):\n",
    "    if isinstance(text, str):\n",
    "        cleaned_text = ''\n",
    "        for char in text:\n",
    "            if char in 'ÁÉÍÓÚ':\n",
    "                # Replace uppercase vowels with their corresponding lowercase counterparts\n",
    "                if char == 'Á':\n",
    "                    cleaned_text += 'A'\n",
    "                elif char == 'É':\n",
    "                    cleaned_text += 'E'\n",
    "                elif char == 'Í':\n",
    "                    cleaned_text += 'I'\n",
    "                elif char == 'Ó':\n",
    "                    cleaned_text += 'O'\n",
    "                elif char == 'Ú':\n",
    "                    cleaned_text += 'U'\n",
    "            else:\n",
    "                cleaned_text += char\n",
    "        return cleaned_text\n",
    "    else:\n",
    "        return text  # Return non-string values as is\n",
    "\n",
    "# Apply function to DataFrame column\n",
    "judgements_1['judge_from_opinion'] = judgements_1['judge_from_opinion'].apply(remove_special_chars)"
   ]
  },
  {
   "cell_type": "code",
   "execution_count": 48,
   "metadata": {},
   "outputs": [],
   "source": [
    "hombres = pd.read_csv(r\"D:\\Proyectos\\amag\\pruebas\\hombres.csv\")\n",
    "mujeres = pd.read_csv(r\"D:\\Proyectos\\amag\\pruebas\\mujeres.csv\")\n",
    "apellidos = pd.read_csv(r\"D:\\Proyectos\\amag\\pruebas\\apellidos.csv\")"
   ]
  },
  {
   "cell_type": "code",
   "execution_count": 58,
   "metadata": {},
   "outputs": [],
   "source": [
    "nombres = pd.concat([hombres, mujeres, apellidos], axis=0, ignore_index=True)\n",
    "nombres = nombres.drop(columns=['frec', 'edad_media','apellido','frec_pri','frec_seg','freq_rep'])\n",
    "nombres = nombres.dropna()"
   ]
  },
  {
   "cell_type": "code",
   "execution_count": 59,
   "metadata": {},
   "outputs": [],
   "source": [
    "names_to_add = ['FRESIA', 'DEYVI', 'CUEVA', 'RAUL', 'CUENTAS', 'GUEVARA', \n",
    "                'HURTADO', 'CORDOVA', 'PADILLA', 'GAVIDIA', 'ESPINOZA', 'DIAZ', \n",
    "                'JULCA', 'LEON', 'AQUINO', 'LIZ', 'GUERRA', 'MERCADO', 'AGUILAR',\n",
    "                'HERRERA', 'CALLE', 'CORONADO', 'CORNEJO','RAMIREZ']\n"
   ]
  },
  {
   "cell_type": "code",
   "execution_count": 60,
   "metadata": {},
   "outputs": [],
   "source": [
    "nombres_list= nombres['nombre'].tolist()"
   ]
  },
  {
   "cell_type": "code",
   "execution_count": 61,
   "metadata": {},
   "outputs": [],
   "source": [
    "nombres_list = nombres_list + names_to_add"
   ]
  },
  {
   "cell_type": "code",
   "execution_count": 62,
   "metadata": {},
   "outputs": [
    {
     "data": {
      "text/plain": [
       "['YOVANKA',\n",
       " 'YUFEI',\n",
       " 'YUQI',\n",
       " 'YURI MARCELA',\n",
       " 'YURONG',\n",
       " 'YUSRAA',\n",
       " 'YUXIANG',\n",
       " 'YUYUN',\n",
       " 'ZAMBRA',\n",
       " 'ZARAH',\n",
       " 'ZOE MARIE',\n",
       " 'ZOHORA',\n",
       " 'ZOI',\n",
       " 'ZOILA ROCIO',\n",
       " 'FRESIA',\n",
       " 'DEYVI',\n",
       " 'CUEVA',\n",
       " 'RAUL',\n",
       " 'CUENTAS',\n",
       " 'GUEVARA',\n",
       " 'HURTADO',\n",
       " 'CORDOVA',\n",
       " 'PADILLA',\n",
       " 'GAVIDIA',\n",
       " 'ESPINOZA',\n",
       " 'DIAZ',\n",
       " 'JULCA',\n",
       " 'LEON',\n",
       " 'AQUINO',\n",
       " 'LIZ']"
      ]
     },
     "execution_count": 62,
     "metadata": {},
     "output_type": "execute_result"
    }
   ],
   "source": [
    "nombres_list[-30:]"
   ]
  },
  {
   "cell_type": "code",
   "execution_count": 18,
   "metadata": {},
   "outputs": [
    {
     "data": {
      "text/html": [
       "<div>\n",
       "<style scoped>\n",
       "    .dataframe tbody tr th:only-of-type {\n",
       "        vertical-align: middle;\n",
       "    }\n",
       "\n",
       "    .dataframe tbody tr th {\n",
       "        vertical-align: top;\n",
       "    }\n",
       "\n",
       "    .dataframe thead th {\n",
       "        text-align: right;\n",
       "    }\n",
       "</style>\n",
       "<table border=\"1\" class=\"dataframe\">\n",
       "  <thead>\n",
       "    <tr style=\"text-align: right;\">\n",
       "      <th></th>\n",
       "      <th>case_file</th>\n",
       "      <th>judge</th>\n",
       "      <th>judge_from_opinion</th>\n",
       "    </tr>\n",
       "  </thead>\n",
       "  <tbody>\n",
       "    <tr>\n",
       "      <th>0</th>\n",
       "      <td>00006-2018-0-0210-JP-FC-01</td>\n",
       "      <td>ALVAREZ ACERO ROCIO DELSY</td>\n",
       "      <td>NaN</td>\n",
       "    </tr>\n",
       "    <tr>\n",
       "      <th>1</th>\n",
       "      <td>00006-2018-0-0215-JP-FC-01</td>\n",
       "      <td>HINOSTROZA HUERTA HILDA MARIA</td>\n",
       "      <td>NaN</td>\n",
       "    </tr>\n",
       "    <tr>\n",
       "      <th>2</th>\n",
       "      <td>00007-2018-0-0201-JP-FC-02</td>\n",
       "      <td>VILLAFAN CANO HOMMER FREY</td>\n",
       "      <td>NaN</td>\n",
       "    </tr>\n",
       "    <tr>\n",
       "      <th>3</th>\n",
       "      <td>00008-2018-0-0201-JP-FC-01</td>\n",
       "      <td>HUERTA BOJORQUEZ, CARMEN EUGENIA</td>\n",
       "      <td>NaN</td>\n",
       "    </tr>\n",
       "    <tr>\n",
       "      <th>4</th>\n",
       "      <td>00022-2018-0-0201-JP-FC-01</td>\n",
       "      <td>RETUERTO TUEROS BESSI YOHANA</td>\n",
       "      <td>NaN</td>\n",
       "    </tr>\n",
       "    <tr>\n",
       "      <th>...</th>\n",
       "      <td>...</td>\n",
       "      <td>...</td>\n",
       "      <td>...</td>\n",
       "    </tr>\n",
       "    <tr>\n",
       "      <th>31687</th>\n",
       "      <td>00030-2018-0-3301-SP-CI-01</td>\n",
       "      <td>NaN</td>\n",
       "      <td>NaN</td>\n",
       "    </tr>\n",
       "    <tr>\n",
       "      <th>31688</th>\n",
       "      <td>00031-2018-0-3301-SP-CI-01</td>\n",
       "      <td>NaN</td>\n",
       "      <td>NaN</td>\n",
       "    </tr>\n",
       "    <tr>\n",
       "      <th>31689</th>\n",
       "      <td>00035-2018-0-3301-SP-CI-01</td>\n",
       "      <td>NaN</td>\n",
       "      <td>NaN</td>\n",
       "    </tr>\n",
       "    <tr>\n",
       "      <th>31690</th>\n",
       "      <td>00005-2018-0-3301-SP-FC-01</td>\n",
       "      <td>NaN</td>\n",
       "      <td>NaN</td>\n",
       "    </tr>\n",
       "    <tr>\n",
       "      <th>31691</th>\n",
       "      <td>00007-2018-0-3301-SP-FC-01</td>\n",
       "      <td>NaN</td>\n",
       "      <td>NaN</td>\n",
       "    </tr>\n",
       "  </tbody>\n",
       "</table>\n",
       "<p>31692 rows × 3 columns</p>\n",
       "</div>"
      ],
      "text/plain": [
       "                        case_file                             judge  \\\n",
       "0      00006-2018-0-0210-JP-FC-01         ALVAREZ ACERO ROCIO DELSY   \n",
       "1      00006-2018-0-0215-JP-FC-01     HINOSTROZA HUERTA HILDA MARIA   \n",
       "2      00007-2018-0-0201-JP-FC-02         VILLAFAN CANO HOMMER FREY   \n",
       "3      00008-2018-0-0201-JP-FC-01  HUERTA BOJORQUEZ, CARMEN EUGENIA   \n",
       "4      00022-2018-0-0201-JP-FC-01      RETUERTO TUEROS BESSI YOHANA   \n",
       "...                           ...                               ...   \n",
       "31687  00030-2018-0-3301-SP-CI-01                               NaN   \n",
       "31688  00031-2018-0-3301-SP-CI-01                               NaN   \n",
       "31689  00035-2018-0-3301-SP-CI-01                               NaN   \n",
       "31690  00005-2018-0-3301-SP-FC-01                               NaN   \n",
       "31691  00007-2018-0-3301-SP-FC-01                               NaN   \n",
       "\n",
       "      judge_from_opinion  \n",
       "0                    NaN  \n",
       "1                    NaN  \n",
       "2                    NaN  \n",
       "3                    NaN  \n",
       "4                    NaN  \n",
       "...                  ...  \n",
       "31687                NaN  \n",
       "31688                NaN  \n",
       "31689                NaN  \n",
       "31690                NaN  \n",
       "31691                NaN  \n",
       "\n",
       "[31692 rows x 3 columns]"
      ]
     },
     "execution_count": 18,
     "metadata": {},
     "output_type": "execute_result"
    }
   ],
   "source": [
    "df_new = judgements_1[['case_file','judge','judge_from_opinion']]\n",
    "df_new"
   ]
  },
  {
   "cell_type": "code",
   "execution_count": 15,
   "metadata": {},
   "outputs": [
    {
     "name": "stderr",
     "output_type": "stream",
     "text": [
      "d:\\Programas\\anaconda3\\envs\\datasets_iat\\Lib\\site-packages\\transformers\\pipelines\\text_classification.py:104: UserWarning: `return_all_scores` is now deprecated,  if want a similar functionality use `top_k=None` instead of `return_all_scores=True` or `top_k=1` instead of `return_all_scores=False`.\n",
      "  warnings.warn(\n",
      "C:\\Users\\PC\\AppData\\Local\\Temp\\ipykernel_19164\\1386623876.py:10: SettingWithCopyWarning: \n",
      "A value is trying to be set on a copy of a slice from a DataFrame.\n",
      "Try using .loc[row_indexer,col_indexer] = value instead\n",
      "\n",
      "See the caveats in the documentation: https://pandas.pydata.org/pandas-docs/stable/user_guide/indexing.html#returning-a-view-versus-a-copy\n",
      "  df_nan_judge['score'] = df_nan_judge['judge_from_opinion'].apply(get_score)\n"
     ]
    }
   ],
   "source": [
    "tokenizer = AutoTokenizer.from_pretrained('dccuchile/bert-base-spanish-wwm-uncased')\n",
    "bert_model = AutoModelForSequenceClassification.from_pretrained(\"JFernandoGRE/classificator_names\")\n",
    "pipe_model = TextClassificationPipeline(model=bert_model, tokenizer=tokenizer)\n",
    "\n",
    "# Define a function to get the score for a given text\n",
    "def get_score(text):\n",
    "    if pd.isna(text):  # Check if text is NaN\n",
    "        return np.nan  # Or return a default score, e.g., 0 or -1\n",
    "    return pipe_model(text, return_all_scores=True)[0][1]['score']\n",
    "\n",
    "# Apply the function to the 'JUDGE_FROM_OPINION' column and create the 'SCORE' column\n",
    "df_nan_judge['score'] = df_nan_judge['judge_from_opinion'].apply(get_score)\n"
   ]
  },
  {
   "cell_type": "code",
   "execution_count": 10,
   "metadata": {},
   "outputs": [
    {
     "data": {
      "text/html": [
       "<div>\n",
       "<style scoped>\n",
       "    .dataframe tbody tr th:only-of-type {\n",
       "        vertical-align: middle;\n",
       "    }\n",
       "\n",
       "    .dataframe tbody tr th {\n",
       "        vertical-align: top;\n",
       "    }\n",
       "\n",
       "    .dataframe thead th {\n",
       "        text-align: right;\n",
       "    }\n",
       "</style>\n",
       "<table border=\"1\" class=\"dataframe\">\n",
       "  <thead>\n",
       "    <tr style=\"text-align: right;\">\n",
       "      <th></th>\n",
       "      <th>case_file</th>\n",
       "      <th>judge</th>\n",
       "      <th>judge_from_opinion</th>\n",
       "      <th>score</th>\n",
       "    </tr>\n",
       "  </thead>\n",
       "  <tbody>\n",
       "    <tr>\n",
       "      <th>10</th>\n",
       "      <td>00040-2018-0-0201-JP-FC-01</td>\n",
       "      <td>HUERTA BOJORQUEZ, CARMEN EUGENIA</td>\n",
       "      <td>AGUILAR DEXTRE, HERNANDO EDGAR</td>\n",
       "      <td>0.999557</td>\n",
       "    </tr>\n",
       "    <tr>\n",
       "      <th>13</th>\n",
       "      <td>00050-2018-0-0202-JP-FC-01</td>\n",
       "      <td>ROBLES TORRES HIBETH LEGNNY</td>\n",
       "      <td>ROBLES LAZARO MONER FELIX</td>\n",
       "      <td>0.999583</td>\n",
       "    </tr>\n",
       "    <tr>\n",
       "      <th>15</th>\n",
       "      <td>00055-2018-0-0212-JP-FC-01</td>\n",
       "      <td>MENDOZA ASENCIOS WILBER</td>\n",
       "      <td>WILBER MENDOZA ASENCIOS</td>\n",
       "      <td>0.999571</td>\n",
       "    </tr>\n",
       "    <tr>\n",
       "      <th>16</th>\n",
       "      <td>00058-2018-0-0201-JP-FC-01</td>\n",
       "      <td>HUERTA BOJORQUEZ, CARMEN EUGENIA</td>\n",
       "      <td>AGUILAR DEXTRE, HERNANDO EDGAR</td>\n",
       "      <td>0.999557</td>\n",
       "    </tr>\n",
       "    <tr>\n",
       "      <th>20</th>\n",
       "      <td>00070-2018-0-0201-JP-FC-02</td>\n",
       "      <td>SANTISTEBAN VALENZUELA AILLENY ADELA</td>\n",
       "      <td>MAGDALENA SALAZAR SOTO</td>\n",
       "      <td>0.999556</td>\n",
       "    </tr>\n",
       "    <tr>\n",
       "      <th>...</th>\n",
       "      <td>...</td>\n",
       "      <td>...</td>\n",
       "      <td>...</td>\n",
       "      <td>...</td>\n",
       "    </tr>\n",
       "    <tr>\n",
       "      <th>31618</th>\n",
       "      <td>00549-2018-0-3301-JP-FC-01</td>\n",
       "      <td>CAJAS PEREZ JUAN DIEGO</td>\n",
       "      <td>ATENCIO VALLADARES KARINA MARICRUZ</td>\n",
       "      <td>0.999594</td>\n",
       "    </tr>\n",
       "    <tr>\n",
       "      <th>31627</th>\n",
       "      <td>00575-2018-0-3301-JP-FC-01</td>\n",
       "      <td>PAREDES VILLA, LIDIA VICTORIA</td>\n",
       "      <td>ATENCIO VALLADARES KARINA MARICRUZ</td>\n",
       "      <td>0.999594</td>\n",
       "    </tr>\n",
       "    <tr>\n",
       "      <th>31638</th>\n",
       "      <td>00613-2018-0-3301-JP-FC-01</td>\n",
       "      <td>ANGELA RENGIFO CARPIO</td>\n",
       "      <td>ANGELA RENGIFO CARPIO</td>\n",
       "      <td>0.999581</td>\n",
       "    </tr>\n",
       "    <tr>\n",
       "      <th>31681</th>\n",
       "      <td>00164-2018-0-3301-JR-CI-01</td>\n",
       "      <td>ESTELA  SOLANO ALEJOS</td>\n",
       "      <td>ROY ESTEBAN ALVA NAVARRO</td>\n",
       "      <td>0.999607</td>\n",
       "    </tr>\n",
       "    <tr>\n",
       "      <th>31683</th>\n",
       "      <td>00161-2018-1-3301-JR-FT-01</td>\n",
       "      <td>YOLANDA PETRONILA CAMPOS  SOTELO</td>\n",
       "      <td>YOLANDA PETRONILA CAMPOS  SOTELO</td>\n",
       "      <td>0.999578</td>\n",
       "    </tr>\n",
       "  </tbody>\n",
       "</table>\n",
       "<p>14760 rows × 4 columns</p>\n",
       "</div>"
      ],
      "text/plain": [
       "                        case_file                                 judge  \\\n",
       "10     00040-2018-0-0201-JP-FC-01      HUERTA BOJORQUEZ, CARMEN EUGENIA   \n",
       "13     00050-2018-0-0202-JP-FC-01           ROBLES TORRES HIBETH LEGNNY   \n",
       "15     00055-2018-0-0212-JP-FC-01               MENDOZA ASENCIOS WILBER   \n",
       "16     00058-2018-0-0201-JP-FC-01      HUERTA BOJORQUEZ, CARMEN EUGENIA   \n",
       "20     00070-2018-0-0201-JP-FC-02  SANTISTEBAN VALENZUELA AILLENY ADELA   \n",
       "...                           ...                                   ...   \n",
       "31618  00549-2018-0-3301-JP-FC-01                CAJAS PEREZ JUAN DIEGO   \n",
       "31627  00575-2018-0-3301-JP-FC-01         PAREDES VILLA, LIDIA VICTORIA   \n",
       "31638  00613-2018-0-3301-JP-FC-01                 ANGELA RENGIFO CARPIO   \n",
       "31681  00164-2018-0-3301-JR-CI-01                 ESTELA  SOLANO ALEJOS   \n",
       "31683  00161-2018-1-3301-JR-FT-01      YOLANDA PETRONILA CAMPOS  SOTELO   \n",
       "\n",
       "                       judge_from_opinion     score  \n",
       "10         AGUILAR DEXTRE, HERNANDO EDGAR  0.999557  \n",
       "13              ROBLES LAZARO MONER FELIX  0.999583  \n",
       "15                WILBER MENDOZA ASENCIOS  0.999571  \n",
       "16         AGUILAR DEXTRE, HERNANDO EDGAR  0.999557  \n",
       "20                 MAGDALENA SALAZAR SOTO  0.999556  \n",
       "...                                   ...       ...  \n",
       "31618  ATENCIO VALLADARES KARINA MARICRUZ  0.999594  \n",
       "31627  ATENCIO VALLADARES KARINA MARICRUZ  0.999594  \n",
       "31638               ANGELA RENGIFO CARPIO  0.999581  \n",
       "31681            ROY ESTEBAN ALVA NAVARRO  0.999607  \n",
       "31683    YOLANDA PETRONILA CAMPOS  SOTELO  0.999578  \n",
       "\n",
       "[14760 rows x 4 columns]"
      ]
     },
     "execution_count": 10,
     "metadata": {},
     "output_type": "execute_result"
    }
   ],
   "source": [
    "df_nan_judge"
   ]
  },
  {
   "cell_type": "code",
   "execution_count": 16,
   "metadata": {},
   "outputs": [
    {
     "name": "stderr",
     "output_type": "stream",
     "text": [
      "C:\\Users\\PC\\AppData\\Local\\Temp\\ipykernel_19164\\282632229.py:4: SettingWithCopyWarning: \n",
      "A value is trying to be set on a copy of a slice from a DataFrame\n",
      "\n",
      "See the caveats in the documentation: https://pandas.pydata.org/pandas-docs/stable/user_guide/indexing.html#returning-a-view-versus-a-copy\n",
      "  df_nan_judge['judge_from_opinion'].replace('', np.nan, inplace=True)  # Ensure empty strings are treated as NaN\n",
      "C:\\Users\\PC\\AppData\\Local\\Temp\\ipykernel_19164\\282632229.py:5: SettingWithCopyWarning: \n",
      "A value is trying to be set on a copy of a slice from a DataFrame\n",
      "\n",
      "See the caveats in the documentation: https://pandas.pydata.org/pandas-docs/stable/user_guide/indexing.html#returning-a-view-versus-a-copy\n",
      "  df_nan_judge['judge_from_opinion'].fillna(df_nan_judge['judge'], inplace=True)\n"
     ]
    }
   ],
   "source": [
    "df_nan_judge.loc[df_nan_judge['score'] < 0.998, 'judge_from_opinion'] = np.nan  # Set NaN where score > 0.998\n",
    "\n",
    "# Copy content from 'judge' to 'judge_from_opinion' where 'judge_from_opinion' is empty\n",
    "df_nan_judge['judge_from_opinion'].replace('', np.nan, inplace=True)  # Ensure empty strings are treated as NaN\n",
    "df_nan_judge['judge_from_opinion'].fillna(df_nan_judge['judge'], inplace=True)"
   ]
  },
  {
   "cell_type": "code",
   "execution_count": 17,
   "metadata": {},
   "outputs": [],
   "source": [
    "df_nan_judge.to_excel(r'D:\\Proyectos\\amag\\pruebas\\judges_names.xlsx', index=False)"
   ]
  },
  {
   "cell_type": "code",
   "execution_count": 58,
   "metadata": {},
   "outputs": [
    {
     "data": {
      "text/plain": [
       "'         CORTE SUPERIOR DE JUSTICIA DE LAMBAYEQUE\\n         \\nCORTE SUPERIOR DE JUSTICIA DE LAMBAYEQUE    \\n         \\n         \\nCORTE SUPERIOR DE JUSTICIA DE LAMBAYEQUE\\nCORTE SUPERIOR DE JUSTICIA DE LAMBAYEQUE\\n\\nPRIMER JUZGADO DE PAZ LETRADO CIVIL ----    CHICLAYO\\n          PRIMER JUZGADO DE PAZ LETRADO CIVIL \\n          \\nCHICLAYO    \\nPRIMER JUZGADO DE PAZ LETRADO CIVIL \\n          \\n          \\nPRIMER JUZGADO DE PAZ LETRADO CIVIL \\nCHICLAYO\\nCHICLAYO\\n\\n: 00039\\n2018----0000----1706\\n: 00039----2018\\n1706----JPJPJPJP----CICICICI----01010101    \\n17061706\\n20182018\\n: 00039\\n: 00039\\n: PEDRO HIPOLITO DEJO VALLEJOS\\n: PEDRO HIPOLITO DEJO VALLEJOS    \\n: PEDRO HIPOLITO DEJO VALLEJOS\\n: PEDRO HIPOLITO DEJO VALLEJOS\\n\\n    \\nEXPEDIENTE\\nEXPEDIENTE        \\nEXPEDIENTE\\nEXPEDIENTE\\nDEMANDANTE\\nDEMANDANTE    \\nDEMANDANTE\\nDEMANDANTE\\n:EMPRESA DE SERVICIOS FUNERARIOS RAMIREZ E.I.R.LR.LR.LR.L    \\n            :EMPRESA DE SERVICIOS FUNERARIOS RAMIREZ E.I.\\nDEMANDADO \\nDEMANDADO         \\n:EMPRESA DE SERVICIOS FUNERARIOS RAMIREZ E.I.\\n        \\nDEMANDADO \\nDEMANDADO \\n        \\n:EMPRESA DE SERVICIOS FUNERARIOS RAMIREZ E.I.\\n: DESALOJO POR CONCLUSION DE CONTRATO CON \\n    \\nMATERIA\\nMATERIA    \\n: DESALOJO POR CONCLUSION DE CONTRATO CON     \\n    \\nMATERIA\\nMATERIA\\n: DESALOJO POR CONCLUSION DE CONTRATO CON \\n: DESALOJO POR CONCLUSION DE CONTRATO CON \\n        ALLANAMIENTO FUTURO\\n    \\n    \\nALLANAMIENTO FUTURO    \\nALLANAMIENTO FUTURO\\nALLANAMIENTO FUTURO\\nJUEZ\\nJUEZ    \\n    \\n: DRA. GIULLIANA VICTORIA VASQUEZ\\n: DRA. GIULLIANA VICTORIA VASQUEZ    \\nJUEZ\\nJUEZ\\n: DRA. GIULLIANA VICTORIA VASQUEZ\\n: DRA. GIULLIANA VICTORIA VASQUEZ\\n: DR.WILSON GONZALES SAMILLAN\\nESPECIALISTA\\nESPECIALISTA    \\n: DR.WILSON GONZALES SAMILLAN    \\nESPECIALISTA\\nESPECIALISTA\\n: DR.WILSON GONZALES SAMILLAN\\n: DR.WILSON GONZALES SAMILLAN\\n\\n    CARRASCO\\nCARRASCO    \\nCARRASCO\\nCARRASCO\\n\\n    \\n    \\n\\n    \\n\\n    \\n\\nSSSSE  N  T  E  N  C  I  A\\nE  N  T  E  N  C  I  A    \\nE  N  T  E  N  C  I  A\\nE  N  T  E  N  C  I  A\\n\\n    \\n\\nRESOLUCIÓN NÚMERO CINCO\\nRESOLUCIÓN NÚMERO CINCO    \\nRESOLUCIÓN NÚMERO CINCO\\nRESOLUCIÓN NÚMERO CINCO\\n\\nChiclayo, catorce de noviembre  \\n\\nDel año dos mil dieciocho \\n\\n    \\n\\nAUTOS  Y  VISTOS:  Con  e\\nAUTOS  Y  VISTOS:  Con  el  presente  proceso  en  despacho \\nAUTOS  Y  VISTOS:  Con  e\\nAUTOS  Y  VISTOS:  Con  e\\n\\npara emitir sentencia y CONSIDERANDO:\\nCONSIDERANDO:    \\nCONSIDERANDO:\\nCONSIDERANDO:\\n\\n    \\n\\nI.I.I.I.  ANTECEDENTES:\\nANTECEDENTES:    \\nANTECEDENTES:\\nANTECEDENTES:\\n\\n    \\n\\n1.1.1.1.1.1.1.1.  PRETENSIÓN DE LA DEMANDA\\nPRETENSIÓN DE LA DEMANDA::::    \\nPRETENSIÓN DE LA DEMANDA\\nPRETENSIÓN DE LA DEMANDA\\n\\nMediante  escrito  obrante  a  folios  once  a  catorce,  PEDRO  HIPÓLITO  DEJO  VALLEJOS\\nPEDRO  HIPÓLITO  DEJO  VALLEJOS, \\nPEDRO  HIPÓLITO  DEJO  VALLEJOS\\nPEDRO  HIPÓLITO  DEJO  VALLEJOS\\n\\nacude a este despacho, a fin de interponer demanda contra la EMPRESA DE SERVICIOS \\nEMPRESA DE SERVICIOS \\nEMPRESA DE SERVICIOS \\nEMPRESA DE SERVICIOS \\n\\ndesalojo  por  conclusión  de  contrato  con \\nFUNERARIOS  RAMIREZ  E.I.R.L,  sobre  desalojo  por  conclusión  de  c\\nFUNERARIOS  RAMIREZ  E.I.R.L\\nontrato  con \\ndesalojo  por  conclusión  de  c\\nFUNERARIOS  RAMIREZ  E.I.R.L\\nFUNERARIOS  RAMIREZ  E.I.R.L\\ndesalojo  por  conclusión  de  c\\nontrato  con \\nontrato  con \\n\\nallanamiento  futuro, \\nallanamiento  futuro,  con  la  finalidad  de  que  se  le  restituya  la  posesión  del  inmueble  que \\nallanamiento  futuro, \\nallanamiento  futuro, \\n\\nocupa  el  demandado,  ubicado  en  la  calle  Manuel  María  Izaga  N°  172,  Oficina  N°  172, \\n\\nDistrito  y  Provincia  de  Chiclayo,  por  haber  vencido  el  plazo\\nvencido  el  plazo  estipulado  en  contrato  de \\nvencido  el  plazo\\nvencido  el  plazo\\n\\nrentas adeudadas por el importe de Seis mil Doscientos\\narrendamiento y se le cancele las     rentas adeudadas por el importe de Seis mil \\nDoscientos    \\nrentas adeudadas por el importe de Seis mil \\nrentas adeudadas por el importe de Seis mil \\nDoscientos\\nDoscientos\\n\\n00.00),  pago de penalidad e intereses, costos y costas \\nericanos ($ 6,222200.00), \\ncon 00/100 dólares americanos ($ 6,\\ncon 00/100 dólares am\\npago de penalidad e intereses, costos y costas \\n00.00), \\nericanos ($ 6,\\ncon 00/100 dólares am\\ncon 00/100 dólares am\\nericanos ($ 6,\\n00.00), \\npago de penalidad e intereses, costos y costas \\npago de penalidad e intereses, costos y costas \\n\\ndel proceso, \\ndel proceso, conforme al monto del petitorio. \\ndel proceso, \\ndel proceso, \\n\\n1.2.1.2.1.2.1.2.     HECHOS EXPUESTOS POR EL SOLICITANTE:\\nHECHOS EXPUESTOS POR EL SOLICITANTE:    \\nHECHOS EXPUESTOS POR EL SOLICITANTE:\\nHECHOS EXPUESTOS POR EL SOLICITANTE:\\n\\n(cid:1)  ARGUMENTOS FÁCTICOS DE LA PRETENSIÓN DE LA DEMANDA:\\nARGUMENTOS FÁCTICOS DE LA PRETENSIÓN DE LA DEMANDA:    \\nARGUMENTOS FÁCTICOS DE LA PRETENSIÓN DE LA DEMANDA:\\nARGUMENTOS FÁCTICOS DE LA PRETENSIÓN DE LA DEMANDA:\\n\\nEl demandante fundamenta su pretensión en los siguientes hechos: \\n\\na)a)a)a)  Mediante  minuta  de  fecha  quince  de  febrero  del  año  dos  mil  diecisiete  con  firmas \\n\\nlegalizadas ante un notario público, en calidad de arrendador, celebró con la demandada, \\n\\nun contrato de arrendamiento con cláusula de allanamiento a futuro, acordándose el uso \\n\\ndel  inmueble  Oficina  N°  172,  ubicada  en  la  calle  Manuel  María  Izaga  N°  172  de  la \\n\\nciudad de Chiclayo, por el periodo del primero de diciembre del año dos mil dieciséis al \\n\\ntreinta de noviembre del año dos mil diecisiete, pagándose la cantidad de Setecientos con \\n\\n00/100  dólares  americanos  ($700.00)  por  los  meses  de  diciembre  a  mayo  y  luego, \\n\\n\\x0cOchocientos con 00/100 dólares americanos ($ 800.00) por el periodo restante de junio a \\n\\nnoviembre, siendo que durante la vigencia del contrato de arrendamiento, la demandada \\n\\nincumplió con el pago de la renta mensual haciendo un monto total adeudado de SEIS \\n\\nMIL  TRESCIENTOS  CON  00/100  DOLARES  AMERICANOS  ($6,300),  monto  que  ha \\n\\nsido requerido mediante tres cartas notariales.    \\n\\nb)b)b)b)  Ante el vencimiento del plazo de arrendamiento y la falta de pago de la demandada, se \\n\\ncursó con quince días de anticipación al vencimiento del contrato, carta notarial de fecha \\n\\nocho  de  noviembre  del  año  dos  mil  diecisiete  requiriendo  el  pago  de  la  deuda  y \\n\\ncomunicando el vencimiento de plazo de arrendamiento.    \\n\\nc)c)c)c)  Vencido el plazo de arrendamiento y ante la falta de entrega voluntaria del inmueble por \\n\\nparte dela demandada, se cursaron dos cartas notariales comunicando la conclusión del \\n\\ncontrato por vencimiento de plazo y exigiendo la restitución del bien, sin que a la fecha \\n\\nhaya  cumplido  de  forma  voluntaria  con  la  entrega  del  inmueble,  obligándose  a \\n\\ninterponer la demanda de desalojo.    \\n\\n    \\n\\n(cid:1)  ARGUMENTOS JURÍDICOS DE LA DEMANDA\\nARGUMENTOS JURÍDICOS DE LA DEMANDA::::    \\nARGUMENTOS JURÍDICOS DE LA DEMANDA\\nARGUMENTOS JURÍDICOS DE LA DEMANDA\\n\\nComo argumentos jurídicos cita los artículos 424°, 425°, 594°, 593° del Código Procesal \\n\\nCivil. \\n\\n    \\n\\nII.II.II.II.TRAMITE DEL PROCESO\\nTRAMITE DEL PROCESO::::    \\nTRAMITE DEL PROCESO\\nTRAMITE DEL PROCESO\\n\\nMediante Resolución número DOS, de fecha seis de abril del año dos mil dieciocho obrante \\n\\na folios treinta y dos, se admitió a trámite la demanda en la vía especial, por Resolución \\n\\nnúmero TRES, de fecha seis de julio del dos mil dieciocho, obrante a folios treinta y nueve, \\n\\nse dispone notificar a la demandada en el inmueble materia de desalojo y, por Resolución \\n\\nnúmero  CUATRO  de  fecha  dieciocho  de  septiembre  del  año  dos  mil  dieciocho,  obrante  a \\n\\nfolios  cuarenta  y  siete,  conforme  al  estado  el  proceso,  se  dispone  autos  a  despacho  para \\n\\nresolver. \\n\\n \\n\\nIII.     ARGUMENTOS DE LA DECISIÓN\\nIII.\\nARGUMENTOS DE LA DECISIÓN::::    \\nIII.III.\\nARGUMENTOS DE LA DECISIÓN\\nARGUMENTOS DE LA DECISIÓN\\n\\n        CONSIDERANDO\\nCONSIDERANDO    \\nCONSIDERANDO\\nCONSIDERANDO\\n\\nPRIMERO:  Conforme a lo preceptuado por al artículo 3° del Título Preliminar del Código \\nPRIMERO\\nPRIMERO\\nPRIMERO\\n\\nProcesal  Civil,  la  finalidad  concreta  del  proceso,  es  resolver  el  conflicto  de  intereses  y \\n\\neliminar la incertidumbre, ambas con relevancia jurídica, haciendo efectivos los derechos \\n\\nsustanciales;  siendo  su  finalidad  abstracta,  lograr  la  paz  social  en  justicia.  Para  ello  los \\n\\njusticiables  deberán  de  aportar  los  medios  probatorios  con  la  finalidad  de  acreditar  los \\n\\nhechos  que  exponen,  producir  certeza  en  el  director  del  proceso  de  lo  alegado  y \\n\\nfundamentar sus decisiones, correspondiendo la carga de la prueba a quien afirma hechos \\n\\nque configuran su pretensión o a quien los contradice alegando hechos nuevos, conforme lo \\n\\nprescrito en los numerales 188 y 196 de la norma procesal glosada, salvo disposición legal \\n\\n\\x0cdiferente,  correspondiendo  al  órgano  jurisdiccional  efectuar  en  conjunto  una  valoración \\n\\nrazonada y objetiva de todos los medios de prueba aportadas al proceso o defensa de sus \\n\\nderechos o intereses, con sujeción a un debido proceso. \\n\\n \\n\\nSEGUNDO\\nSEGUNDO:  Corresponde emitir pronunciamiento respecto de la pretensión postulada por    \\nSEGUNDO\\nSEGUNDO\\n\\nPEDRO  HIPOLITO  DEJO  VALLEJOS\\nPEDRO  HIPOLITO  DEJO  VALLEJOS, , , ,  en  calidad  de  propietario  del  bien  inmueble, \\nPEDRO  HIPOLITO  DEJO  VALLEJOS\\nPEDRO  HIPOLITO  DEJO  VALLEJOS\\n\\nubicado  en  calle  Manuel  María  Izaga  N°  172,  oficina  N°  172,  Provincia  y  Distrito  de \\n\\nChiclayo,  Departamento  de  Lambayeque;  contra \\n\\nEMPRESA  DE  SERVIIIICIOS \\nla  EMPRESA  DE  SERV\\nCIOS \\nEMPRESA  DE  SERV\\nEMPRESA  DE  SERV\\nCIOS \\nCIOS \\n\\ndesalojo  por  conclusión  de  contrato  con \\nFUNEARIOS  RAMIREZ  E.I.R.L,    sobre  desalojo  por  conclusión  de  contrat\\nFUNEARIOS  RAMIREZ  E.I.R.L\\no  con \\ndesalojo  por  conclusión  de  contrat\\nFUNEARIOS  RAMIREZ  E.I.R.L\\nFUNEARIOS  RAMIREZ  E.I.R.L\\ndesalojo  por  conclusión  de  contrat\\no  con \\no  con \\n\\nallanamiento  futuro  y  pago  de  adeudos  de  renta\\nallanamiento  futuro  y  pago  de  adeudos  de  renta,  pago  de  penalidad,  intereses,  costas  y \\nallanamiento  futuro  y  pago  de  adeudos  de  renta\\nallanamiento  futuro  y  pago  de  adeudos  de  renta\\n\\ncostos del proceso, teniendo en cuenta que el presente proceso ha sido admitido en la VÍA \\n\\nDE  TRÁMITE  ESPECIAL;  de  modo  tal  que  la  dilucidación  de  la  controversia  pasará \\n\\nentonces  por  determinar  si  resulta  procedente  el  desalojo  por  conclusión  de  contrato  de \\n\\narrendamiento con allanamiento futuro. \\n\\n \\n\\nTERCERO:    La “cláusula  de  allanamiento  a  futuro  del  arrendatario”,\\nTERCERO\\n“cláusula  de  allanamiento  a  futuro  del  arrendatario”,    es  un  acuerdo \\n“cláusula  de  allanamiento  a  futuro  del  arrendatario”,\\nTERCERO\\nTERCERO\\n“cláusula  de  allanamiento  a  futuro  del  arrendatario”,\\n\\nexpreso que se puede adicionar a los contratos de arrendamiento de inmuebles. Mediante \\n\\ndicha  cláusula,  el  arrendatario  se  compromete  a  desocupar  inmediatamente  el  predio \\n\\n(casa,  departamento,  oficina,  etc.),  previo  requerimiento  judicial,  si  es  que  se  presenta \\n\\nalguna de estas dos causales: conclusión del contrato o resolución del arrendamiento por \\n\\nfalta  de  pago  de  las  rentas  convenidas.  Así,  evaluado  el  Contrato  de  Arrendamiento  de \\n\\nfolios veintiuno a veintitrés, se determina que en la Cláusula Décimo Segunda\\nCláusula Décimo Segunda, las partes \\nCláusula Décimo Segunda\\nCláusula Décimo Segunda\\n\\nprocesales  han  convenido  el  \"Allanamiento  Futuro\",  señalado  lo  términos  siguientes: \"El \\n\\narrendatario manifiesta su voluntad de quedar automáticamente allanado a la demanda \\n\\nque el ARRENDADOR le incoe para la restitución del bien inmueble, objeto de este \\n\\ncontrato, en virtud del artículo 594 del código procesal civil, y conforme a la ley N° 30221, \\n\\npor lo que este contrato se suscribe con firmas legalizadas ante notario público”.  En este \\n\\nsentido, se verifica que posee la  FORMALIDAD QUE DEBE CUMPLIR LA CLAUSULA \\nFORMALIDAD QUE DEBE CUMPLIR LA CLAUSULA \\nFORMALIDAD QUE DEBE CUMPLIR LA CLAUSULA \\nFORMALIDAD QUE DEBE CUMPLIR LA CLAUSULA \\n\\nDE ALLANAMIENTO A FUTURO\\nDE ALLANAMIENTO A FUTURO, por cuanto, en primer lugar, se trata de una cláusula \\nDE ALLANAMIENTO A FUTURO\\nDE ALLANAMIENTO A FUTURO\\n\\nincluida  en  un  contrato  redactado  por  escrito,  y  en  segundo  lugar,  el  contrato  de \\n\\nnotario público de los intervinientes. \\narrendamiento posee las firmas legalizadas ante notario público\\nnotario público\\nnotario público\\n\\n    \\n\\nCUARTO\\nCUARTO:  En este sentido debe señalarse que el trámite del presente proceso corresponde \\nCUARTO\\nCUARTO\\n\\na  un  trámite  especial,  instaurado  en  virtud  de  lo  señalado  en  el  artículo  594  del  Código \\n\\nProcesal Civil, modificado por la Ley N° 30201, el cual, en su tercer párrafo a la letra dice: \\n\\n\"el Juez notifica la demanda al arrendatario para que, dentro del plazo de seis días, \\n\\nacredite la vigencia del contrato de arrendamiento o la cancelación del alquiler adeudado”; \\n\\nen tal sentido, corresponde verificar en el presente proceso si se presenta alguna de estas \\n\\n\\x0cdos causales: conclusión del contrato o resolución del arrendamiento por falta de pago de \\n\\nlas rentas convenidas.  \\n\\n \\n\\nQUINTO\\nQUINTO:  Siendo así, del estudio de autos se advierte que mediante Resolución número \\nQUINTO\\nQUINTO\\n\\nDOS  de  fecha  seis  de  abril  del  año  dos  mil  dieciocho,  obrante  a  folios  treinta  y  dos  y \\n\\ntreinta y tres, se admitió a trámite la demanda y se dispuso que la demandada EMPRESA \\n\\nDE SERVICIOS FUNERARIOS RAMIREZ E.I.R.L, en el plazo de seis días se apersone al \\n\\nproceso y acredite la vigencia del contrato de arrendamiento, por lo que correspondía que \\n\\nla  demandada  en  referencia,  acredite  la  vigencia  del  contrato  de  arrendamiento;  sin \\n\\nembargo,  ésta  no  ha  realizado  actividad  probatoria  alguna  para  ejercitar  el  derecho  de \\n\\ndefensa  que  le  asiste,  pese  a  encontrarse  válidamente  notificada  y  en  consecuencia, \\n\\ntampoco ha cumplido con acreditar que el contrato de arrendamiento materia de litis, se \\n\\nencuentre vigente. \\n\\n \\n\\nSEXTO\\nSEXTO:  Bajo  los  parámetros  expuestos,  y  merituados  los  medios  probatorios,  en  el \\nSEXTO\\nSEXTO\\n\\npresente  caso  se  ha  acreditado  que  los  justiciables  han  celebrado  un  contrato  de \\n\\narrendamiento  obrante  a  folios  veintiuno  a  veintitrés,  en  cuya  CCCClausula\\nlausula    CuartaCuartaCuartaCuarta,  se \\nlausula\\nlausula\\n\\nestipuló  el  plazo  de  contrato  de  duración  determinada,  de  UN  AÑO  improrrogable,  que \\n\\ncomputado  desde  el  primero  de  diciembre  del  añodos  mil  dieciséis,  venció  el  treinta  de \\n\\nnoviembre del año dos mil diecisiete, conforme se advierte también de la Carta Notarial \\n\\nde fecha once de diciembre del dos mil diecisiete, obrante a folios cuatro, mediante la cual \\n\\nse da por concluido el contrato de arrendamiento invocándose dicha causal. \\n\\n \\n\\nSEPTIMO:    Por  otro  lado,  se  advierte  que  en  la  ClClClCláusulaáusulaáusulaáusula    Quinta, \\nQuinta, del  mismo  contrato \\nSEPTIMO\\nQuinta, Quinta, \\nSEPTIMO\\nSEPTIMO\\n\\nreferida  a  la  Merced  Conductiva,  se  estipuló  lo  siguiente:“La merced conductivamensual \\n\\nserá de $700.00 dólares americanos, los primeros seis meses que cuentan desde el primero \\n\\nde diciembre hasta el treinta y uno de mayo y $800.00 dólares americanos, serán a partir \\n\\ndel primero de junio hasta el treinta de noviembre del año dos mil diecisiete que se pagara \\n\\nen forma adelantada al arrendador los primeros CINCO días de cada mes”,  por \\n\\nconsiguiente,  de  lo  antes  detallado  se  ha  podido  determinar  que  los  hechos  que  alega  el \\n\\ndemandante;  así  como  la  cuantificación  de  las  rentas  dejadas  de  cancelar  por  la \\n\\ndemandada es la correcta, por cuanto la merced conductiva durante los meses de abril y \\n\\nmayo  del  dos  mil  diecisiete,  ascendía  a  Setecientos  dólares  americanos  mensuales  ($ \\n\\n700.00),  que  multiplicados  por  los  dos  meses  antes  mencionados,  hacen  un  total  de  Mil \\n\\ncuatrocientos  dólares  americanos  ($.  1400.00).  Además,  la  renta  dejadas  de  percibir  por \\n\\nlos  meses  de  junio  a  noviembre  del  dos  mil  diecisiete,  ascendía  a  Ochocientos  dólares \\n\\namericanos  mensuales  ($  800.00),  que  multiplicados  por \\n\\nlos  seis  meses  antes \\n\\nmencionados, hacen un total de Cuatro mil ochocientos dólares americanos ($. 4,800); así \\n\\n\\x0csumados  ambos  periodos,  equivale  a  un  total  de  rentas  adeudasde  Seis  mil  doscientos \\n\\ndólares americanos ($. 6,200.00). \\n\\n \\n\\nOCTAVO\\nOCTAVO:  Conforme  a  lo  expuesto,  se  puede  concluir  que  la  demandada  EMPRESA  DE \\nOCTAVO\\nOCTAVO\\n\\nSERVICIOS FUNERARIOS RAMIREZ E.I.R.L, no ha cumplido el mandato contenido en \\n\\nla  resolución  número  DOS    de  fecha  seis  de  abril  del  año  dos  mil  dieciocho,  obrante  de   \\n\\nfolios treinta y dos y treinta y tres, esto es, no ha cumplido con acreditar que la relación \\nno ha cumplido con acreditar que la relación \\nno ha cumplido con acreditar que la relación \\nno ha cumplido con acreditar que la relación \\n\\ncontractual de arrendamiento suscrita el día quince de febrero del año dos mil diecisiete, \\ncontractual de \\narrendamiento suscrita el día quince de febrero del año dos mil diecisiete, \\ncontractual de \\ncontractual de \\narrendamiento suscrita el día quince de febrero del año dos mil diecisiete, \\narrendamiento suscrita el día quince de febrero del año dos mil diecisiete, \\n\\ncon  una  duración  de  doce  meses  computados  desde  el  primero  de  diciembre  del  año  dos \\ncon  una  duración  de  doce  meses  computados  desde  el  primero  de  diciembre  del  año  dos \\ncon  una  duración  de  doce  meses  computados  desde  el  primero  de  diciembre  del  año  dos \\ncon  una  duración  de  doce  meses  computados  desde  el  primero  de  diciembre  del  año  dos \\n\\nmil  dieciséis  al  treinta    de  noviembre  del  año  dos  mil  diecisiete,  se  mantiene  vigente\\nmil  dieciséis  al  treinta    de  noviembre  del  año  dos  mil  diecisiete,  se  mantiene  vigente, \\nmil  dieciséis  al  treinta    de  noviembre  del  año  dos  mil  diecisiete,  se  mantiene  vigente\\nmil  dieciséis  al  treinta    de  noviembre  del  año  dos  mil  diecisiete,  se  mantiene  vigente\\n\\ndebiendo  por  tanto,  declararse  fundada  la  demanda  y  hacerse  efectivo  el  apercibimiento \\n\\ndecretado en autos, ordenando el lanzamiento dela demandada, del bien inmueble materia \\n\\nde litis, en cumplimiento de lo dispuesto en el cuarto párrafo del artículo 594 del Código \\n\\nProcesal  Civil,  el  cual  prescribe  que:  “Vencido el plazo establecido sin que se acredite lo \\n\\nseñalado en el párrafo anterior, el Juez ordena el lanzamiento en quince días hábiles, de \\n\\nconformidad con el artículo 593 del Código Procesal Civil”. \\n\\n \\n\\nNOVENO\\nNOVENO: Finalmente, cabe señalar que en cuanto a la pretensión accesoria de pago de \\nNOVENO\\nNOVENO\\n\\npenalidad, se advierte que ni en el escrito de demanda, ni en el escrito de subsanación de \\n\\nla  misma,  obrante  a  folios  veintinueve  a  treinta  y  uno,  el  demandante  ha  cumplido  con \\n\\ndetallar a cuánto asciende el petitorio de dicha pretensión, conforme lo prevé el artículo \\n\\n424, inciso 8 del Código Procesal Civil, así como tampoco ha señalado el periodo por el cual \\n\\nse  aplicaría  la  penalidad  que  pretende,  ciñéndose  solo  a  mencionar  que  la  misma  está \\n\\npactada  en  el  Contrato,  no  siendo  suficiente  tal  alegación  pues,  conforme  lo  señala  el \\n\\nartículo antes mencionado en los incisos 5 y 6, tanto el petitorio, como los fundamentos de \\n\\nhecho,  deben  ser  claros  y  precisos,  no  pudiendo  ésta  juzgadora  suplir  dichas  omisiones,  \\n\\nNo  obstante  ello,  se  deja  expedito  el  derecho  del  demandante  para  hacerlo  valer,  en  la \\n\\nforma y estilo de ley. \\n\\n \\n\\nDECISIÓN::::    \\nIV.      DECISIÓN\\nIV. \\nIV. \\nIV. \\nDECISIÓN\\nDECISIÓN\\n\\n   Por  estas  consideraciones,  en  aplicación  de  los  dispositivos  legales  invocados;  artículos \\n\\n138,  139  de  la  Constitución  Política  del  estado;  Administrando  Justicia  a  Nombre  de  la \\n\\nNación, FALLO\\nFALLO:     \\nFALLO\\nFALLO\\n\\n    \\n\\nEN  PARTE     LA  DEMANDA  DE  DESALOJO  CON \\nFUNDADA     EN  PARTE\\na)a)a)a)     Declarar  FUNDADA\\nLA  DEMANDA  DE  DESALOJO  CON \\nEN  PARTE\\nFUNDADA\\nFUNDADA\\nEN  PARTE\\nLA  DEMANDA  DE  DESALOJO  CON \\nLA  DEMANDA  DE  DESALOJO  CON \\n\\nALLANAMIENTO FUTURO, de folios once a catorce, interpuesta por     PEDRO HIPÓLITO \\nALLANAMIENTO FUTURO\\nPEDRO HIPÓLITO \\nALLANAMIENTO FUTURO\\nALLANAMIENTO FUTURO\\nPEDRO HIPÓLITO \\nPEDRO HIPÓLITO \\n\\nEMPRESA  DE  SERVICIOS  FUNERARIOS  RAMIREZ \\nDEJO  VALLEJOS,  contra  la     EMPRESA  DE  S\\nDEJO  VALLEJOS\\nERVICIOS  FUNERARIOS  RAMIREZ \\nEMPRESA  DE  S\\nDEJO  VALLEJOS\\nDEJO  VALLEJOS\\nEMPRESA  DE  S\\nERVICIOS  FUNERARIOS  RAMIREZ \\nERVICIOS  FUNERARIOS  RAMIREZ \\n\\nSE  ORDENA  que  la  demandada  cumpla  con  DESOCUPAR \\nE.I.R.L;  en  consecuencia,  SE  ORDENA \\nE.I.R.L\\nDESOCUPAR  y    \\nDESOCUPAR \\nSE  ORDENA \\nE.I.R.L\\nE.I.R.L\\nSE  ORDENA \\nDESOCUPAR \\n\\nHACER ENTREGA\\nHACER ENTREGA del inmueble Oficina N° 172 ubicada en la calle Manuel María Izaga N° \\nHACER ENTREGA\\nHACER ENTREGA\\n\\n\\x0c172, Distrito y Provincia de Chiclayo, Departamento de Lambayeque y, cumpla con PAGAR\\nPAGAR \\nPAGAR\\nPAGAR\\n\\n(Seis  mil  dosdosdosdoscientos  con  00/100  dólares \\n00.00       (Seis  mil \\na  favor  del  demandante  la  suma  de  $.$.$.$.6,26,26,26,200.00 \\ncientos  con  00/100  dólares \\n(Seis  mil \\n00.00 \\n00.00 \\n(Seis  mil \\ncientos  con  00/100  dólares \\ncientos  con  00/100  dólares \\n\\namericanos), \\namericanos), por concepto de rentas impagas desde el mes de abril del año dos mil diecisiete \\namericanos), \\namericanos), \\n\\nhasta  el  mes  de  noviembre  del  año  dos  mil  diecisiete;  sin perjuicio de los pagos que \\n\\ndevenguen hasta que se haga efectiva la entrega del bien arrendado, dejando a salvo el \\n\\nderecho del accionante para hacerlo valer en la vía de acción correspondiente; en el término \\n\\nQUINCE  DÍAS,  BAJO  APERCIBIMIENTO  DE  LANZAMIENTO\\nde  QUINCE  DÍAS\\nBAJO  APERCIBIMIENTO  DE  LANZAMIENTO,  en  caso  de \\nBAJO  APERCIBIMIENTO  DE  LANZAMIENTO\\nQUINCE  DÍAS\\nQUINCE  DÍAS\\nBAJO  APERCIBIMIENTO  DE  LANZAMIENTO\\n\\nincumplimiento; con el pago de costas y costos del proceso. \\n\\nDeclarar  IMPROCEDENTE  la  pretensión  accesoria  de  pago  de  penalidad,  dejando a \\nb) b) b) b)  Declarar  IMPROCEDENTE  la  pretensión  accesoria  de  pago  de  penalidad, \\nDeclarar  IMPROCEDENTE  la  pretensión  accesoria  de  pago  de  penalidad, \\nDeclarar  IMPROCEDENTE  la  pretensión  accesoria  de  pago  de  penalidad, \\n\\nsalvo el derecho del accionante para hacerlo valer en laforma y estilo de ley, conforme a lo \\n\\nseñalado en el considerando noveno.    \\n\\nConsentida y/o ejecutoriada que sea la presente, ARCHIVESE\\nc)  c)  c)  c)  Consentida y/o ejecutoriada \\nARCHIVESE en la forma y estilo de ley. \\nARCHIVESE\\nConsentida y/o ejecutoriada \\nConsentida y/o ejecutoriada \\nARCHIVESE\\n\\ndddd))))    Notifíquese \\nNotifíquese con las formalidades de Ley.- \\nNotifíquese \\nNotifíquese \\n\\n \\n\\n \\n\\n \\n\\n \\n\\n \\n\\n    \\n\\n    \\n\\n    \\n\\n \\n\\n \\n\\n \\n\\n    \\n \\n \\n \\n\\n    \\n\\n    \\n\\n\\x0c'"
      ]
     },
     "execution_count": 58,
     "metadata": {},
     "output_type": "execute_result"
    }
   ],
   "source": [
    "cell_value = df_new.at[14886, 'opinion_text']\n",
    "cell_value"
   ]
  },
  {
   "cell_type": "code",
   "execution_count": 9,
   "metadata": {},
   "outputs": [
    {
     "data": {
      "text/html": [
       "<div>\n",
       "<style scoped>\n",
       "    .dataframe tbody tr th:only-of-type {\n",
       "        vertical-align: middle;\n",
       "    }\n",
       "\n",
       "    .dataframe tbody tr th {\n",
       "        vertical-align: top;\n",
       "    }\n",
       "\n",
       "    .dataframe thead th {\n",
       "        text-align: right;\n",
       "    }\n",
       "</style>\n",
       "<table border=\"1\" class=\"dataframe\">\n",
       "  <thead>\n",
       "    <tr style=\"text-align: right;\">\n",
       "      <th></th>\n",
       "      <th>judge</th>\n",
       "      <th>opinion_text</th>\n",
       "      <th>judge_from_opinion</th>\n",
       "    </tr>\n",
       "  </thead>\n",
       "  <tbody>\n",
       "    <tr>\n",
       "      <th>236</th>\n",
       "      <td>NaN</td>\n",
       "      <td>1° SALA CIVIL - Sede Central \\n\\nEXPEDIENTE \\n...</td>\n",
       "      <td>NaN</td>\n",
       "    </tr>\n",
       "    <tr>\n",
       "      <th>794</th>\n",
       "      <td>NaN</td>\n",
       "      <td>JUZGADO DE PAZ LETRADO DE ORCOPAMPA \\nEXPEDIEN...</td>\n",
       "      <td>NaN</td>\n",
       "    </tr>\n",
       "    <tr>\n",
       "      <th>815</th>\n",
       "      <td>NaN</td>\n",
       "      <td>C O R T E       S U P E R I O R     D E     J ...</td>\n",
       "      <td>NaN</td>\n",
       "    </tr>\n",
       "    <tr>\n",
       "      <th>880</th>\n",
       "      <td>NaN</td>\n",
       "      <td>NaN</td>\n",
       "      <td>NaN</td>\n",
       "    </tr>\n",
       "    <tr>\n",
       "      <th>887</th>\n",
       "      <td>NaN</td>\n",
       "      <td>EXPEDIENTE \\nDEMANDANTE \\nDEMANDADO \\nMATERIA ...</td>\n",
       "      <td>NaN</td>\n",
       "    </tr>\n",
       "    <tr>\n",
       "      <th>...</th>\n",
       "      <td>...</td>\n",
       "      <td>...</td>\n",
       "      <td>...</td>\n",
       "    </tr>\n",
       "    <tr>\n",
       "      <th>31687</th>\n",
       "      <td>NaN</td>\n",
       "      <td>1 \\n\\n \\n\\nC O R T E   S U P E R I O R   D E  ...</td>\n",
       "      <td>NaN</td>\n",
       "    </tr>\n",
       "    <tr>\n",
       "      <th>31688</th>\n",
       "      <td>NaN</td>\n",
       "      <td>\\n \\n\\n \\n \\nEXPEDIENTE \\n \\nRELATOR \\nMATERI...</td>\n",
       "      <td>NaN</td>\n",
       "    </tr>\n",
       "    <tr>\n",
       "      <th>31689</th>\n",
       "      <td>NaN</td>\n",
       "      <td>\\n \\n\\n \\n\\n \\n \\nEXPEDIENTE \\n \\nMATERIA \\n ...</td>\n",
       "      <td>NaN</td>\n",
       "    </tr>\n",
       "    <tr>\n",
       "      <th>31690</th>\n",
       "      <td>NaN</td>\n",
       "      <td>CORTE SUPERIOR DE JUSTICIA DE VENTANILLA Y \\n\\...</td>\n",
       "      <td>NaN</td>\n",
       "    </tr>\n",
       "    <tr>\n",
       "      <th>31691</th>\n",
       "      <td>NaN</td>\n",
       "      <td>CORTE SUPERIOR DE JUSTICIA DE VENTANILLA \\n\\nS...</td>\n",
       "      <td>NaN</td>\n",
       "    </tr>\n",
       "  </tbody>\n",
       "</table>\n",
       "<p>895 rows × 3 columns</p>\n",
       "</div>"
      ],
      "text/plain": [
       "      judge                                       opinion_text  \\\n",
       "236     NaN  1° SALA CIVIL - Sede Central \\n\\nEXPEDIENTE \\n...   \n",
       "794     NaN  JUZGADO DE PAZ LETRADO DE ORCOPAMPA \\nEXPEDIEN...   \n",
       "815     NaN  C O R T E       S U P E R I O R     D E     J ...   \n",
       "880     NaN                                                NaN   \n",
       "887     NaN  EXPEDIENTE \\nDEMANDANTE \\nDEMANDADO \\nMATERIA ...   \n",
       "...     ...                                                ...   \n",
       "31687   NaN  1 \\n\\n \\n\\nC O R T E   S U P E R I O R   D E  ...   \n",
       "31688   NaN   \\n \\n\\n \\n \\nEXPEDIENTE \\n \\nRELATOR \\nMATERI...   \n",
       "31689   NaN   \\n \\n\\n \\n\\n \\n \\nEXPEDIENTE \\n \\nMATERIA \\n ...   \n",
       "31690   NaN  CORTE SUPERIOR DE JUSTICIA DE VENTANILLA Y \\n\\...   \n",
       "31691   NaN  CORTE SUPERIOR DE JUSTICIA DE VENTANILLA \\n\\nS...   \n",
       "\n",
       "      judge_from_opinion  \n",
       "236                  NaN  \n",
       "794                  NaN  \n",
       "815                  NaN  \n",
       "880                  NaN  \n",
       "887                  NaN  \n",
       "...                  ...  \n",
       "31687                NaN  \n",
       "31688                NaN  \n",
       "31689                NaN  \n",
       "31690                NaN  \n",
       "31691                NaN  \n",
       "\n",
       "[895 rows x 3 columns]"
      ]
     },
     "execution_count": 9,
     "metadata": {},
     "output_type": "execute_result"
    }
   ],
   "source": [
    "df_nan_judge = df_nan_judge[df_nan_judge['judge_from_opinion'].isna()]\n",
    "df_nan_judge"
   ]
  },
  {
   "cell_type": "code",
   "execution_count": 10,
   "metadata": {},
   "outputs": [
    {
     "data": {
      "text/plain": [
       "'1° SALA CIVIL - Sede Central \\n\\nEXPEDIENTE \\n\\n: 00002-2018-0-0201-SP-CI-01 \\n\\nMATERIA  \\n\\nRELATOR \\n\\n \\n\\n \\n\\n: ACCION CONTENCIOSA ADMINISTRATIVA \\n\\n: ASIS SAENZ LEONCIO GABRIEL \\n\\nDEMANDADO \\n\\n: SOCIEDAD DE BENEFICIENCIA PUBLICA DE \\n\\nCHIQUIAN \\n\\nDEMANDANTE  \\n\\n: PEREZ DURAN, VILA \\n\\n \\n\\nRESOLUCION N. º11 \\nHuaraz, veintitrés de marzo del año dos mil dieciocho \\n \\n\\nVISTOS  en  audiencia  pública,  con  la  certificación  que  obra  a  fojas  doscientos \\n\\ncuarentaisiete,  remitido  por  el  Juzgado  Mixto  de  Bolognesi,  a  la  vista  del \\n\\ndictamen  emitido  por  el  señor  Fiscal  Superior  de  la  Fiscalía  Superior  Civil  y \\n\\nFamilia del Ministerio Público en el dictamen de fojas doscientos treintaicuatro \\n\\na doscientos cuarentaicuatro, para resolver. \\n\\nASUNTO:  \\n\\nRecurso  de  apelación  interpuesto  por  Vila  Pérez  Duran  contra  la  sentencia \\n\\ncontenida en la resolución número ocho de fecha dos de octubre del año dos mil \\n\\ndiecisiete,  que  falla  declarando  infundada  la  demanda  interpuesta  por  Vila \\n\\nPérez  Duran  contra  la  Sociedad  de  Beneficencia  Pública  de  Chiquian  de  la \\n\\nProvincia de Bolognesi sobre proceso contencioso administrativo. \\n\\nPRETENSION IMPUGNATORIA Y FUNDAMENTACIÓN DEL AGRAVIO:  \\n\\nLa demandante pretende se revoque la resolución impugnada por los siguientes \\n\\nfundamentos: \\n\\na) Que en la sentencia se sostiene que la demandada trabajó bajo la modalidad \\n\\nde  contrato  de  servicios  personales  hasta  el  año  dos  mil  trece,  sin  embargo \\n\\nlaboró  hasta  enero  de  dos  mil  quince;  es  decir  más  de  cuatro  años    en  forma \\n\\nininterrumpida  en  condición    de  contratada  para  labores    de  naturaleza \\n\\npermanente,  adquiriendo  derecho  de  estabilidad  laboral  tal  como  lo  prescribe \\n\\ncon claridad la ley N° 24041; además debe entenderse que un concurso público \\n\\nes para nombramiento y no para contrato. \\n\\n\\x0cb) Que el cargo o puesto en el que fue contratada (tesorería - secretaria) por más \\n\\nde cuatro años ininterrumpidos, jamás ha sido de confianza, no lo dicen ni las \\n\\nresoluciones  de  contrato  ni  el  Reglamento  de  Organización  y  Funciones  de  la \\n\\nentidad demandada. \\n\\nc) Que la plaza en la que fue contratada se encontraba vacante pero  no hubo la \\n\\nintención  de  convocar  a  concurso  público  porque  no  había  interés  de \\n\\nnombramiento sino solo de contrato por servicios personales en esa condición. \\n\\nd)  Que  la  resolución  presidencial  N°  006-2015-SBPCH,  de  fecha  veintiuno  de \\n\\nenero  de  dos  mil  quince  no  fue  emitido  dentro  del  marco  legal,  sino  en  clara \\n\\ncontravención de la ley N° 24041, pues no había fundamento legal alguno para \\n\\nanular su contrato, y nunca le instauraron proceso administrativo para dejar sin \\n\\nefecto su contrato laboral.            \\n\\nCONSIDERANDO: \\n\\nPRIMERO.- Que de conformidad al inciso 6 del artículo 139 de la Constitución \\n\\nPolítica del Estado, concordante con el artículo 11 del Texto Único Ordenado de \\n\\nla Ley Orgánica del Poder Judicial,   el derecho a la  pluralidad de instancia es \\n\\nuna garantía del debido proceso y se materializa cuando el justiciable tiene la \\n\\nposibilidad  de  poder  impugnar  una  decisión \\n\\njudicial  ante  un  órgano \\n\\njurisdiccional  de  mayor  jerarquía,  con  facultades  de  dejar  sin  efecto  lo \\n\\noriginalmente dispuesto, tanto en la forma como en el fondo, como lo establece \\n\\nel artículo 364° del Código Procesal Civil, aplicable supletoriamente en virtud \\n\\nde la Primera Disposición Complementaria y Final del Código Procesal Civil1; \\n\\npara lo cual el Juez Superior debe resolver en función a los agravios, los errores \\n\\nde hecho y de derecho que sustentan la pretensión impugnatoria, conforme a la \\n\\ncompetencia que le otorga el artículo 370° del Código Procesal Civil2, aplicable \\n\\nsupletoriamente. \\n\\nSEGUNDO.  -  Que  de  conformidad  con  el  artículo  148  de  la  Constitución \\n\\nPolítica  del  Estado,  las  resoluciones  administrativas  que  causan  estado  son \\n                                                 \\n1 Las disposiciones de este Código se aplican supletoriamente a los demás ordenamientos procesales, \\nsiempre que sean compatibles con su naturaleza. \\n2Artículo  370.-  Competencia  del  juez  superior.  -  El  juez  superior  no  puede  modificar  la  resolución \\nimpugnada en perjuicio del apelante, salvo que la otra parte también haya apelado o se haya adherido o \\nsea  un  menor  de  edad.  Sin  embargo,  puede  integrar  la  resolución  apelada  en  la  parte  decisoria,  si  la \\nfundamentación aparece en la parte considerativa.” \\n\\n\\x0csusceptibles  de  impugnación  mediante  la  acción  contencioso-administrativa; \\n\\nésta  norma  constitucional,  ha  sido  desarrollado  por  el  TUO  de  la  Ley  27584 \\n\\nmodificado por el Decreto Legislativo N° 1067, aprobado por Decreto Supremo \\n\\nNº  013-2008-JUS;  que  en  su  artículo  4  numeral  1,  establece  que  pueden \\n\\nconocerse en la vía contencioso administrativa, entre otros, la impugnación de \\n\\nactos administrativos y cualquier otra declaración administrativa; en el presente \\n\\ncaso la resolución denegatoria ficta del recurso de apelación interpuesto contra \\n\\nla Resolución Presidencial N° 006-2015-SBPCH/P de fecha veintiuno de enero \\n\\nde  dos  mil  quince,  es  un  acto  administrativo  emitido  por  la  Sociedad  de \\n\\nBeneficencia  Pública  de  Chiquian,  por  ende  el  pedido  de  su  nulidad, \\n\\ncorresponde tramitarse en la vía del proceso contencioso administrativo, con la \\n\\natingencia que se trata de uno de carácter laboral, ya que  tiene por finalidad el \\n\\ncontrol  jurídico,  por  el  Poder  Judicial,  de  las  actuaciones  de  la  administración \\n\\npública, sujetas al derecho administrativo y a la efectiva tutela de los derechos e \\n\\nintereses  de  los  administrados,  dentro  de  una  relación  laboral  de  empleador \\n\\n(estado)-empleado (demandante). \\n\\nTERCERO. -  Que para emitir un pronunciamiento de fondo, es menester que \\n\\npreviamente  concurran  los  presupuestos  procesales  y  los  requisitos  de  la \\n\\nacción;  en  ese  sentido,  no  puede  emitirse  una  sentencia  válida  en  tanto  falte \\n\\nalguno  de  ellos;  en  ese  contexto,  se  tiene  que  la  entidad  demandada  es  una \\n\\nentidad  del  Estado,  la  Sociedad  de  Beneficencia  Pública3  de  Chiquian,  siendo \\n\\nello  así,  de  conformidad  con  el  artículo  47º  de  la  Constitución  Política  del \\n\\nEstado,  la  defensa  de  los  intereses  del  Estado  se  encuentra  a  cargo  de  los \\n\\nProcuradores Públicos, lo que guarda coherencia con lo estipulado en el artículo \\n\\n24 del Decreto Legislativo 1326 Decreto Legislativo que Reestructura el Sistema \\n\\nAdministrativo de Defensa Jurídica Del Estado y crea la Procuraduría General \\n\\nDel  Estado:  “Las  entidades  públicas  tienen,  como  órgano  de  defensa  jurídica,  una \\n                                                 \\n3  Artículo  2.1.  del  D.S.  004-2010-MIMDES.  -  Las  Sociedades  de  Beneficencia  Pública  y  las  Juntas  de \\n\\nParticipación Social tienen como finalidad la promoción, atención y apoyo a niños, adolescentes, jóvenes, \\n\\nmujeres,  ancianos  y,  en  general,  a  toda  persona  en  situación  de  riesgo,  abandono  o  con  problemas \\n\\npsíquicos, sociales o corporales que menoscaben su desarrollo humano. \\n\\n \\n\\n\\x0cProcuraduría  Pública,  conforme  a  su  ley  de  creación,  ubicado  en  el  mayor  nivel \\n\\njerárquico de su estructura. Esta se constituye en el órgano especializado, responsable de \\n\\nllevar  a  cabo  la  defensa  jurídica  de  los  intereses  del  Estado  y  se  encuentra  vinculada \\n\\nadministrativa  y  funcionalmente  a  la  Procuraduría  General  del  Estado”;  en  el \\n\\npresente caso, conforme es de verse de la demanda, no se precisó la citación del \\n\\nprocurador  competente  para  la  defensa  jurídica  de  la  entidad  del  Estado \\n\\ndemandada,  ni  fue  observada  dicha  omisión  al  calificar  la  demanda  ni  en  el \\n\\nauto admisorio de la demanda; sin embargo al emitir el auto de saneamiento de \\n\\nfolios  ciento ochentaicuatro a ciento ochentaiséis, no se evaluó dicha omisión y \\n\\nse saneó el proceso; por lo que corresponde integrar al Procurador Público para \\n\\ngarantizar  la  adecuada  defensa  en  juicio  del  Estado;  siendo  ello  así,  todo  lo \\n\\nactuado  a  partir  del  auto  de  saneamiento  deviene  en  nulo  correspondiendo \\n\\nrenovar los actos viciados. \\n\\nPor  las  consideraciones  de  hecho  y  de  derecho  anotadas,  en  ejercicio  de  las \\n\\ncompetencias  otorgadas  por  el  artículo  138  de  la  Constitución  Política  del \\n\\nEstado  y  el  artículo  39  y  40  del  TUO  de  la  Ley  Orgánica  del  Poder  Judicial; \\n\\nDECLARARON  NULA  la  sentencia  contenida  en  la  resolución  número  ocho \\n\\nde  fecha  dos  de  octubre  del  año  dos  mil  diecisiete  que  FALLA  declarando \\n\\ninfundada la demanda interpuesta por  Vila Pérez Duran  contra la Sociedad de \\n\\nBeneficencia    Pública  de  Chiquian  de  la  Provincia  de  Bolognesi  sobre  proceso \\n\\nContenciosos  Administrativo; en consecuencia NULO todo lo hecho y actuado \\n\\nhasta  la  resolución  No  cinco    de  fecha  veinticinco  de  enero  del  año  dos  mil \\n\\ndieciséis,  debiendo  proceder  el  Juez  de  la  causa,  conforme  a  la  parte \\n\\nconsiderativa de la presente resolución de vista; en tal sentido NOTIFIQUESE y \\n\\nDEVUELVASE  al  Juzgado  de  origen.-  Ponente  Magistrada  Eva  Luz  Tamariz \\n\\nBéjar.-  \\n\\nS.S.: \\n\\nGARCIA LIZARRAGA. \\n\\nRAMOS SALAS. \\n\\nTAMARIZ BÉJAR. \\n\\n\\x0c'"
      ]
     },
     "execution_count": 10,
     "metadata": {},
     "output_type": "execute_result"
    }
   ],
   "source": [
    "cell_value = df_nan_judge.at[236, 'opinion_text']\n",
    "cell_value"
   ]
  }
 ],
 "metadata": {
  "kernelspec": {
   "display_name": "Python 3",
   "language": "python",
   "name": "python3"
  },
  "language_info": {
   "codemirror_mode": {
    "name": "ipython",
    "version": 3
   },
   "file_extension": ".py",
   "mimetype": "text/x-python",
   "name": "python",
   "nbconvert_exporter": "python",
   "pygments_lexer": "ipython3",
   "version": "3.12.1"
  }
 },
 "nbformat": 4,
 "nbformat_minor": 2
}
