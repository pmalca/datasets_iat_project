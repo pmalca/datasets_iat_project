{
 "cells": [
  {
   "cell_type": "code",
   "execution_count": null,
   "metadata": {},
   "outputs": [],
   "source": [
    "# Define patterns\n",
    "patterns = [\n",
    "    r'R\\s*E\\s*S\\s*U\\s*E\\s*L\\s*V\\s*E\\s*:\\s*',\n",
    "    r'D\\s*E\\s*C\\s*I\\s*S\\s*I\\s*Ó\\s*N\\s*:\\s*',\n",
    "    r'D\\s*E\\s*C\\s*I\\s*D\\s*E\\s*:\\s*',\n",
    "    r'P\\s*A\\s*R\\s*T\\s*E\\s*\\s*R\\s*E\\s*S\\s*O\\s*L\\s*U\\s*T\\s*I\\s*V\\s*A\\s*',\n",
    "    r'D\\s*E\\s*C\\s*L\\s*A\\s*R\\s*A\\s*:\\s*',\n",
    "    r'D\\s*E\\s*C\\s*I\\s*S\\s*I\\s*O\\s*N\\s*:\\s*',\n",
    "    r'R\\s*E\\s*S\\s*U\\s*E\\s*L\\s*V\\s*O\\s*:\\s*',\n",
    "    r'D\\s*I\\s*S\\s*P\\s*O\\s*N\\s*G\\s*O\\s*:\\s*',\n",
    "    r'F\\s*A\\s*L\\s*L\\s*O\\s*:\\s*',\n",
    "    r'L\\s*E\\s*Y\\s*\\s*2\\s*8\\s*2\\s*3\\s*7\\s*',\n",
    "    r'R\\s*E\\s*S\\s*O\\s*L\\s*V\\s*E\\s*M\\s*O\\s*S\\s*:\\s*',\n",
    "    r'D\\s*E\\s*C\\s*L\\s*A\\s*R\\s*A\\s*R\\s*O\\s*N\\s*',\n",
    "    r'C\\s*O\\s*N\\s*F\\s*I\\s*R\\s*M\\s*A\\s*R\\s*O\\s*N\\s*:\\s*',\n",
    "    r'S\\s*E\\s*\\s*D\\s*E\\s*C\\s*L\\s*A\\s*R\\s*A\\s*',\n",
    "    r'D\\s*E\\s*C\\s*L\\s*A\\s*R\\s*A\\s*R\\s*:\\s*',\n",
    "    r'D\\s*E\\s*C\\s*I\\s*S\\s*I\\s*Ó\\s*N\\s*',\n",
    "    r'R\\s*E\\s*S\\s*O\\s*L\\s*V\\s*I\\s*E\\s*R\\s*O\\s*N\\s*:\\s*',\n",
    "    r'C\\s*A\\s*U\\s*S\\s*A\\s*:\\s*',\n",
    "    r'C\\s*O\\s*N\\s*S\\s*I\\s*D\\s*E\\s*R\\s*A\\s*C\\s*I\\s*O\\s*N\\s*E\\s*S\\s*',\n",
    "    r'F\\s*U\\s*N\\s*D\\s*A\\s*M\\s*E\\s*N\\s*T\\s*O\\s*S\\s*\\s*P\\s*O\\s*R\\s*\\s*L\\s*O\\s*S\\s*\\s*Q\\s*U\\s*E\\s*',\n",
    "    r'D\\s*E\\s*C\\s*I\\s*S\\s*I\\s*O\\s*N\\s*',\n",
    "    r'C\\s*O\\s*N\\s*S\\s*I\\s*D\\s*E\\s*R\\s*A\\s*C\\s*I\\s*O\\s*N\\s*E\\s*S\\s*E\\s*X\\s*P\\s*U\\s*E\\s*S\\s*T\\s*A\\s*S\\s*',\n",
    "    r'D\\s*I\\s*S\\s*P\\s*O\\s*N\\s*E\\s*:\\s*',\n",
    "    r'P\\s*O\\s*R\\s*\\s*L\\s*O\\s*S\\s*\\s*F\\s*U\\s*N\\s*D\\s*A\\s*M\\s*E\\s*N\\s*T\\s*O\\s*'\n",
    "]\n",
    "# Extract text using regex\n",
    "def extract_text(row):\n",
    "    text = str(row['text'])  # Convert to string\n",
    "\n",
    "    for pattern in patterns:\n",
    "        match = re.search(pattern, text, flags=re.IGNORECASE)\n",
    "        if match:\n",
    "            start_index = match.end()\n",
    "            return row['text'][start_index:]\n",
    "\n",
    "    return None\n",
    "\n",
    "# Apply the function to create a new column with the extracted text\n",
    "judgements_2_v['text'] = judgements_2_v['text'].fillna('')\n",
    "judgements_2_v['resolutive_section'] = judgements_2_v.apply(extract_text, axis=1)\n",
    "\n",
    "# Apply the function to create a new column with the extracted text\n",
    "judgements_2_v['text'] = judgements_2_v['text'].fillna('')\n",
    "judgements_2_v['resolutive_section'] = judgements_2_v.apply(extract_text, axis=1)"
   ]
  }
 ],
 "metadata": {
  "language_info": {
   "name": "python"
  }
 },
 "nbformat": 4,
 "nbformat_minor": 2
}
