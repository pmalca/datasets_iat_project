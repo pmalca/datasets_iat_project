{
 "cells": [
  {
   "cell_type": "code",
   "execution_count": 1,
   "metadata": {},
   "outputs": [
    {
     "name": "stderr",
     "output_type": "stream",
     "text": [
      "d:\\Programas\\anaconda3\\envs\\datasets_iat\\Lib\\site-packages\\tqdm\\auto.py:21: TqdmWarning: IProgress not found. Please update jupyter and ipywidgets. See https://ipywidgets.readthedocs.io/en/stable/user_install.html\n",
      "  from .autonotebook import tqdm as notebook_tqdm\n"
     ]
    }
   ],
   "source": [
    "import pandas as pd\n",
    "import regex as re\n",
    "import matplotlib.pyplot as plt\n",
    "import nltk\n",
    "from datetime import datetime\n",
    "import numpy as np\n",
    "\n",
    "from transformers import AutoModelForSequenceClassification\n",
    "from transformers import TextClassificationPipeline\n",
    "from transformers import AutoTokenizer  # Or BertTokenizer"
   ]
  },
  {
   "cell_type": "code",
   "execution_count": 2,
   "metadata": {},
   "outputs": [],
   "source": [
    "year = '2018'"
   ]
  },
  {
   "cell_type": "code",
   "execution_count": null,
   "metadata": {},
   "outputs": [],
   "source": [
    "# Main functions \n",
    "\n",
    "def separate_case_files(main_df, second_df):\n",
    "\n",
    "    ''' This code performs a left join between main_df and second_df based on the 'expediente_n°_' column, \n",
    "    and then returns a new DataFrame output_df that contains only the rows from main_df that do not have \n",
    "    a matching row in second_df based on the 'expediente_n°_' column.'''\n",
    "\n",
    "    # Perform the merge and filter the results\n",
    "    output_df = pd.merge(main_df, \n",
    "                         second_df[['case_file']], \n",
    "                         on='case_file', \n",
    "                         how='left', \n",
    "                         indicator=True).query('_merge == \"left_only\"').drop('_merge', axis=1)\n",
    "    \n",
    "    return output_df\n",
    "\n",
    "# Function that creates a new dataset with only the cases that are associated with at least one 'acto_' containing 'vista'\n",
    "\n",
    "def filter_vista_cases(df):\n",
    "\n",
    "    ''' This code creates a new dataset with only the cases files that contains a higher court decision.'''\n",
    "        \n",
    "    # Create a boolean Series where True indicates that 'acto_' contains 'vista'\n",
    "    contains_keyword = df['resolution_type'].str.contains('VISTA', na=False)\n",
    "\n",
    "    # Group by 'expediente_n°_' and check if any 'acto_' in each group contains 'vista'\n",
    "    grouped = df.groupby('case_file').apply(lambda x: any(x['resolution_type'].str.contains('VISTA', na=False)))\n",
    "\n",
    "    # Create a new DataFrame containing only the 'expediente_n°_' that are associated with at least one 'acto_' containing 'vista'\n",
    "    output_df = df[df['case_file'].isin(grouped[grouped].index)]\n",
    "    \n",
    "    return output_df\n",
    "\n",
    "\n",
    "# Function that creates a new dataset with only the cases that are associated with at least one 'acto_' containing a specific keyword \n",
    "\n",
    "def filter_keywords_cases(df, keywords):\n",
    "\n",
    "    ''' This code creates a new dataset with only the cases files that contains a specific keyword.'''\n",
    "    \n",
    "    # Use str.contains with the regex pattern\n",
    "    pattern = '|'.join(keywords)\n",
    "\n",
    "    contains_keyword = df['resolution_type'].str.contains(pattern, case = False ,na=False)\n",
    "    \n",
    "    # Group by 'expediente_n°_' and check if any 'acto_' in each group contains any of the keywords\n",
    "    grouped = df.groupby('case_file').apply(lambda x: any(x['resolution_type'].str.contains(pattern, case = False , na=False)))\n",
    "    \n",
    "    # Create a new DataFrame containing only the 'expediente_n°_' that are associated with at least one 'acto_' containing keywords\n",
    "    output_df = df[df['case_file'].isin(grouped[grouped].index)]\n",
    "    \n",
    "    return output_df\n",
    "\n",
    "\n",
    "def contains_keywords(text, keywords):\n",
    "    if text is None:\n",
    "        return False\n",
    "    text_lower = text.lower()\n",
    "    return any(keyword.lower() in text_lower for keyword in keywords)\n"
   ]
  },
  {
   "cell_type": "code",
   "execution_count": null,
   "metadata": {},
   "outputs": [],
   "source": [
    "# This function calls a trained model that classifies if a text is a name or not. \n",
    "# This is useful to filter out the no names texts in the column 'judge_from_opinion'.\n",
    "# We will use this model after identifying which texts are final decisions, just to save CPU time.\n",
    "\n",
    "tokenizer = AutoTokenizer.from_pretrained('dccuchile/bert-base-spanish-wwm-uncased')\n",
    "bert_model = AutoModelForSequenceClassification.from_pretrained(\"JFernandoGRE/classificator_names\")\n",
    "pipe_model = TextClassificationPipeline(model=bert_model, tokenizer=tokenizer)\n",
    "\n",
    "def get_score(text):\n",
    "    if pd.isna(text):\n",
    "        return np.nan  \n",
    "    return pipe_model(text, return_all_scores=True)[0][1]['score']"
   ]
  },
  {
   "cell_type": "code",
   "execution_count": null,
   "metadata": {},
   "outputs": [],
   "source": [
    "# Reading the dataset\n",
    "\n",
    "documents_amag = pd.read_csv(rf'D:\\Proyectos\\amag\\case_files_{year}.csv')\n",
    "\n",
    "documents_amag['issued_date'] = pd.to_datetime(documents_amag['issued_date'])\n",
    "documents_amag['start_date'] = pd.to_datetime(documents_amag['start_date'])\n",
    "# Getting how many casefiles we have\n",
    "\n",
    "\n",
    "documents_amag['judge_from_opinion'] = documents_amag['judge_from_opinion'].apply(lambda x: np.nan if isinstance(x, str) and len(x) > 40 else x)\n",
    "\n",
    "expediente_counts = documents_amag['case_file'].value_counts()\n",
    "total_unique_files = expediente_counts.shape[0]\n",
    "print(\"Total case files:\", total_unique_files)"
   ]
  },
  {
   "cell_type": "markdown",
   "metadata": {},
   "source": [
    "### 1) Separating Case Files\n",
    "The first step in the analysis process is to separate the case files into two distinct categories:\n",
    "\n",
    "1. Case Files Finished by Judgment\n",
    "2. Case Files Not Finished by Judgment\n",
    "\n",
    "**Case Files Finished by Judgment** \n",
    "- These are the case files that have reached a final decision or judgment. They represent cases that have been resolved and concluded, if they were not appealed. These files typically contain the final ruling or sentence, along with the supporting evidence and legal arguments that led to the decision.\n",
    "\n",
    "- Identifying and separating these case files is crucial because they represent the completed cases, where the legal process has run its course, and a **definitive outcome** has been reached.\n",
    "\n",
    "**Case Files Not Finished by Judgment**\n",
    "- In contrast, this category encompasses case files that have not yet reached a final judgment or decision, but could be concluded by other means. Also, these files could also represent ongoing or unresolved cases that are still in progress within the judicial system.\n",
    "\n",
    "- There could be various reasons why a case file falls into this category:\n",
    "\n",
    "    - The case is still being investigated or processed.\n",
    "    - The case was closed by an order.\n",
    "    - The parties requested concluding the procedure\n",
    "\n",
    "Separating these case files from those finished by judgment is essential because they require different handling and analysis.\n",
    "\n",
    "By clearly distinguishing between these two categories, the analysis can proceed more efficiently, focusing on the appropriate set of case files based on the specific objectives and requirements of the project."
   ]
  },
  {
   "cell_type": "code",
   "execution_count": null,
   "metadata": {},
   "outputs": [],
   "source": [
    "judgements_df = documents_amag[documents_amag['resolution_type'].str.contains('sentencia', case=False, na=False)]\n",
    "\n",
    "orders_df = separate_case_files(documents_amag, judgements_df)"
   ]
  },
  {
   "cell_type": "code",
   "execution_count": null,
   "metadata": {},
   "outputs": [],
   "source": [
    "expediente_counts = judgements_df['case_file'].value_counts()\n",
    "a = expediente_counts.shape[0]\n",
    "print(\"Total case files finished by judgements:\", a)\n",
    "\n",
    "expediente_counts = orders_df['case_file'].value_counts()\n",
    "b = expediente_counts.shape[0]\n",
    "print(\"Total case files not finished by judgements:\", b)\n",
    "\n",
    "print(\"Total case files\", a + b)"
   ]
  },
  {
   "cell_type": "markdown",
   "metadata": {},
   "source": [
    "### 2. Approach with judgements\n",
    "\n",
    "**Goals**\n",
    "\n",
    "- Measure how much time it took to solve the case.\n",
    "- Identify if the first instance decision was confirmed or reversed.\n",
    "\n",
    "**Approach**\n",
    "\n",
    "For the case files that have reached a final judgment, we can further separate them into two groups:\n",
    "\n",
    "1. Case Files with Higher Court Decision\n",
    "2. Case Files with No Higher Court Decision\n",
    "\n",
    "**Case Files with Higher Court Decision**\n",
    "- These case files represent cases that have gone through two or multiple levels of the judicial system, typically involving an appeal process. By analyzing these files, we can:\n",
    "\n",
    "    - Compare the decisions made at different levels of the judicial hierarchy (e.g., first instance vs. higher court).\n",
    "    - Identify cases where the initial decision was confirmed or reversed by the higher court.\n",
    "\n",
    "- Studying these case files can provide valuable insights into the efficiency and consistency of the judicial system, as well as the factors that influence the outcome of appealed cases.\n",
    "\n",
    "**Case Files with No Higher Court Decision**\n",
    "- These case files represent cases that were resolved at the initial level, without any further appeals or higher court involvement. By analyzing these files, we can:\n",
    "\n",
    "    - Measure the duration of the legal process from filing to the final decision at the first instance.\n",
    "\n",
    "By separating the case files based on the presence of a higher court decision, we can gain valuable insights into different aspects of the judicial system, such as the duration of legal proceedings, the consistency of decisions across different levels, and the factors that influence the outcome of appealed cases."
   ]
  },
  {
   "cell_type": "code",
   "execution_count": 4,
   "metadata": {},
   "outputs": [],
   "source": [
    "# List of keywords to filter out\n",
    "keywords = ['AUTO Q DECLARA CONSENTIDA LA SENTENCIA', 'AUTO QUE DECLARA CONSENTIDA SENTENCIA', 'PUESTA A DESPACHO PARA SENTENCIA',\n",
    "            'AUTO QUE DECLARA CONSENTIDA LA SENTENCIA/AUTO DE VISTA', 'RESOLUCION DE TRAIGASE PARA SENTENCIAR',\n",
    "            'APELACION DE SENTENCIA', 'AUTO QUE DECLARA CONSENTIDA LA SENTENCIA', 'AUTO DE INTEGRACION DE SENTENCIA',\n",
    "            'EJECUCION DE SENTENCIA', 'AMPLIACION DE SENTENCIA']\n",
    "\n",
    "# Check if the 'resolution_type' column contains any of the keywords\n",
    "mask = judgements_df['resolution_type'].str.contains('|'.join(keywords), case=False)\n",
    "\n",
    "no_judgments = judgements_df[mask]\n",
    "# Drop the rows containing the keywords in the 'resolution_type' column\n",
    "judgements_df = judgements_df[~mask]"
   ]
  },
  {
   "cell_type": "code",
   "execution_count": 5,
   "metadata": {},
   "outputs": [
    {
     "data": {
      "text/plain": [
       "SENTENCIA                                        38218\n",
       "SENTENCIA DE VISTA                                9797\n",
       "SENTENCIA FUNDADA                                  939\n",
       "SENTENCIA FUNDADA EN PARTE                         657\n",
       "SENTENCIA INFUNDADA                                609\n",
       "SENTENCIA DE VISTA QUE CONFIRMA (A EJECUCION)      349\n",
       "SENTENCIA FUNDADA LA DEMANDA                       205\n",
       "SENTENCIA IMPROCEDENTE                              89\n",
       "SENTENCIA DE VISTA QUE CONFIRMA (A ARCHIVO)         61\n",
       "SENTENCIA DE VISTA QUE ANULA (A TRAMITE)            54\n",
       "SENTENCIA DE VISTA QUE REVOCA (A EJECUCION)         35\n",
       "SENTENCIA INFUNDADA LA DEMANDA                      18\n",
       "SENTENCIA DE VISTA QUE REVOCA (A ARCHIVO)           16\n",
       "SENTENCIA DE VISTA QUE ANULA (A EJECUCION)           2\n",
       "Name: resolution_type, dtype: int64"
      ]
     },
     "execution_count": 5,
     "metadata": {},
     "output_type": "execute_result"
    }
   ],
   "source": [
    "label_counts = judgements_df['resolution_type'].value_counts()\n",
    "label_counts"
   ]
  },
  {
   "cell_type": "code",
   "execution_count": null,
   "metadata": {},
   "outputs": [],
   "source": [
    "expediente_counts = judgements_df['case_file'].value_counts()\n",
    "a = expediente_counts.shape[0]\n",
    "print(\"Total case files finished by judgements:\", a)"
   ]
  },
  {
   "cell_type": "code",
   "execution_count": null,
   "metadata": {},
   "outputs": [],
   "source": [
    "expediente_counts = judgements_df['case_file'].value_counts()\n",
    "expediente_counts"
   ]
  },
  {
   "cell_type": "code",
   "execution_count": null,
   "metadata": {},
   "outputs": [],
   "source": [
    "# Create three subsets based on the specified criteria\n",
    "single_observation = expediente_counts[expediente_counts == 1]\n",
    "second_observations = expediente_counts[expediente_counts == 2]\n",
    "third_observations = expediente_counts[(expediente_counts >= 3) & (expediente_counts <= 10)]\n",
    "\n",
    "total_count = len(expediente_counts)\n",
    "single_percentage = len(single_observation) / total_count * 100\n",
    "second_percentage = len(second_observations) / total_count * 100\n",
    "third_percentage = len(third_observations) / total_count * 100\n",
    "\n",
    "# Plotting\n",
    "plt.figure(figsize=(10, 6))\n",
    "\n",
    "labels = ['One Decision', 'Two Decisions', 'Many Decisions']\n",
    "sizes = [single_percentage, second_percentage, third_percentage]\n",
    "colors = ['blue', 'orange', 'green']\n",
    "\n",
    "plt.pie(sizes, labels=labels, colors=colors, autopct='%1.1f%%', startangle=90)\n",
    "plt.title('Distribution of Judgements per Casefile')\n",
    "\n",
    "plt.show()"
   ]
  },
  {
   "cell_type": "markdown",
   "metadata": {},
   "source": [
    "2.1. **Separating casefiles finished by judgments**\n",
    "\n",
    "- judgements_2 contains casefiles with a second instance decision.\n",
    "- judgements_1 contains casefiles with no second instance decision."
   ]
  },
  {
   "cell_type": "code",
   "execution_count": null,
   "metadata": {},
   "outputs": [],
   "source": [
    "judgements_2 = filter_vista_cases(judgements_df)\n",
    "judgements_1 = separate_case_files(judgements_df, judgements_2)"
   ]
  },
  {
   "cell_type": "code",
   "execution_count": null,
   "metadata": {},
   "outputs": [],
   "source": [
    "judgements_2['second_instance'] = True\n",
    "judgements_1['second_instance'] = False"
   ]
  },
  {
   "cell_type": "markdown",
   "metadata": {},
   "source": [
    "2.2. Working with casefiles with no second instance decision\n",
    "\n",
    "Our goal is obtain casefiles with only one decision. "
   ]
  },
  {
   "cell_type": "code",
   "execution_count": null,
   "metadata": {},
   "outputs": [],
   "source": [
    "# Since a casefile with no appeal could not have more than one final decision, our dataset must not have more than one row per case file. \n",
    "\n",
    "expediente_counts = judgements_1['case_file'].value_counts()\n",
    "\n",
    "# Create three subsets based on the specified criteria\n",
    "single_observation = expediente_counts[expediente_counts == 1]\n",
    "second_observations = expediente_counts[expediente_counts == 2]\n",
    "third_observations = expediente_counts[(expediente_counts >= 3) & (expediente_counts <= 10)]\n",
    "\n",
    "total_count = len(expediente_counts)\n",
    "single_percentage = len(single_observation) / total_count * 100\n",
    "second_percentage = len(second_observations) / total_count * 100\n",
    "third_percentage = len(third_observations) / total_count * 100\n",
    "\n",
    "# Plotting\n",
    "plt.figure(figsize=(10, 6))\n",
    "\n",
    "labels = ['One Decision', 'Two Decisions', 'Many Decisions']\n",
    "sizes = [single_percentage, second_percentage, third_percentage]\n",
    "colors = ['blue', 'orange', 'green']\n",
    "\n",
    "plt.pie(sizes, labels=labels, colors=colors, autopct='%1.1f%%', startangle=90)\n",
    "plt.title('Distribution of Decisions per Casefile')\n",
    "\n",
    "plt.show()"
   ]
  },
  {
   "cell_type": "code",
   "execution_count": null,
   "metadata": {},
   "outputs": [],
   "source": [
    "# Calculate the difference in days between 'issued_date' and 'start_date' columns\n",
    "\n",
    "judgements_1['days_difference'] = (judgements_1['issued_date'] - judgements_1['start_date']).dt.days"
   ]
  },
  {
   "cell_type": "markdown",
   "metadata": {},
   "source": [
    "2.3. Working with case_files with second instance decisions"
   ]
  },
  {
   "cell_type": "code",
   "execution_count": null,
   "metadata": {},
   "outputs": [],
   "source": [
    "# I expect that, at least, I must have two decisions. First instance decision with its second instance decision. \n",
    "\n",
    "expediente_counts = judgements_2['case_file'].value_counts()\n",
    "\n",
    "# Create three subsets based on the specified criteria\n",
    "single_observation = expediente_counts[expediente_counts == 1]\n",
    "second_observations = expediente_counts[expediente_counts == 2]\n",
    "third_observations = expediente_counts[(expediente_counts >= 3) & (expediente_counts <= 10)]\n",
    "\n",
    "total_count = len(expediente_counts)\n",
    "single_percentage = len(single_observation) / total_count * 100\n",
    "second_percentage = len(second_observations) / total_count * 100\n",
    "third_percentage = len(third_observations) / total_count * 100\n",
    "\n",
    "# Plotting\n",
    "plt.figure(figsize=(10, 6))\n",
    "\n",
    "labels = ['One Decision', 'Two Decisions', 'Many Decisions']\n",
    "sizes = [single_percentage, second_percentage, third_percentage]\n",
    "colors = ['blue', 'orange', 'green']\n",
    "\n",
    "plt.pie(sizes, labels=labels, colors=colors, autopct='%1.1f%%', startangle=90)\n",
    "plt.title('Distribution of Decisions per Casefile')\n",
    "\n",
    "plt.show()"
   ]
  },
  {
   "cell_type": "code",
   "execution_count": null,
   "metadata": {},
   "outputs": [],
   "source": [
    "# Case files with only a single decision is weird, since it must has its first instance decision associated to it. \n",
    "# That's why we will remove it from our dataset\n",
    "\n",
    "single_observation = expediente_counts[expediente_counts == 1].index\n",
    "\n",
    "# Remove rows where 'case_file' is in single_observation\n",
    "judgements_2 = judgements_2[~judgements_2['case_file'].isin(single_observation)]"
   ]
  },
  {
   "cell_type": "code",
   "execution_count": null,
   "metadata": {},
   "outputs": [],
   "source": [
    "# Calculate the difference in days between 'issued_date' and 'start_date' columns\n",
    "judgements_2['days_difference'] = (judgements_2['issued_date'] - judgements_2['start_date']).dt.days"
   ]
  },
  {
   "cell_type": "markdown",
   "metadata": {},
   "source": [
    "We have 7931 cases files that contains first and second instance decisions. \n",
    "We have a good sign, since most of our case files only contains two decisions, which means we have a first instance decision, and its correspondent second instance. \n",
    "We must remember, by convention, we assign the term 'vista' to the judicial decisions that are solving an appelation. "
   ]
  },
  {
   "cell_type": "code",
   "execution_count": null,
   "metadata": {},
   "outputs": [],
   "source": [
    "judgements_case_file = pd.concat([judgements_1, judgements_2], ignore_index=True)"
   ]
  },
  {
   "cell_type": "code",
   "execution_count": null,
   "metadata": {},
   "outputs": [],
   "source": [
    "# Fixing the names with BERT\n",
    "\n",
    "# Apply the function to the 'JUDGE_FROM_OPINION' column and create the 'SCORE' column\n",
    "judgements_case_file['score'] = judgements_case_file['judge_from_opinion'].apply(get_score)\n",
    "\n",
    "judgements_case_file.loc[judgements_case_file['score'] < 0.998, 'judge_from_opinion'] = np.nan  # Set NaN where score > 0.998\n",
    "\n",
    "# Copy content from 'judge' to 'judge_from_opinion' where 'judge_from_opinion' is empty\n",
    "judgements_case_file['judge_from_opinion'].replace('', np.nan, inplace=True)  # Ensure empty strings are treated as NaN\n",
    "judgements_case_file['judge_from_opinion'].fillna(judgements_case_file['judge'], inplace=True)"
   ]
  },
  {
   "cell_type": "code",
   "execution_count": null,
   "metadata": {},
   "outputs": [],
   "source": [
    "judgements_case_file.to_csv(rf'D:\\Proyectos\\amag\\classification\\intermediate\\judgements_case_file_{year}.csv', index=False)"
   ]
  },
  {
   "cell_type": "markdown",
   "metadata": {},
   "source": [
    "**2.3. Getting the outcome of the second instance decision.**\n",
    "\n",
    "Our goal is keeping one decision, which is the second instance, and extract its outcome.\n",
    "\n",
    "For this approach, we have binary classification. Confirmed or Reversed.\n",
    "\n",
    "We must take into account that we could have partial confirmation when the higher judge confirms partially a decision.\n",
    "\n",
    "When the last thing happens, we assume it was confirmed. "
   ]
  },
  {
   "cell_type": "code",
   "execution_count": null,
   "metadata": {},
   "outputs": [],
   "source": [
    "condition_acto = judgements_2['resolution_type'].str.contains('vista', case=False, na=False)\n",
    "judgements_2_v = judgements_2[condition_acto]"
   ]
  },
  {
   "cell_type": "code",
   "execution_count": null,
   "metadata": {},
   "outputs": [],
   "source": [
    "expediente_counts = judgements_2_v['case_file'].value_counts()\n",
    "\n",
    "# Create three subsets based on the specified criteria\n",
    "single_observation = expediente_counts[expediente_counts == 1]\n",
    "second_observations = expediente_counts[expediente_counts == 2]\n",
    "third_observations = expediente_counts[(expediente_counts >= 3) & (expediente_counts <= 10)]\n",
    "\n",
    "total_count = len(expediente_counts)\n",
    "single_percentage = len(single_observation) / total_count * 100\n",
    "second_percentage = len(second_observations) / total_count * 100\n",
    "third_percentage = len(third_observations) / total_count * 100\n",
    "\n",
    "# Plotting\n",
    "plt.figure(figsize=(10, 6))\n",
    "\n",
    "labels = ['One Decision', 'Two Decisions', 'Many Decisions']\n",
    "sizes = [single_percentage, second_percentage, third_percentage]\n",
    "colors = ['blue', 'orange', 'green']\n",
    "\n",
    "plt.pie(sizes, labels=labels, colors=colors, autopct='%1.1f%%', startangle=90)\n",
    "plt.title('Distribution of Decisions per Casefile')\n",
    "\n",
    "plt.show()"
   ]
  },
  {
   "cell_type": "code",
   "execution_count": 23,
   "metadata": {},
   "outputs": [],
   "source": [
    "def extract_last_n_words(text, n=300):\n",
    "    # Verifica si el texto es una cadena\n",
    "    if isinstance(text, str):\n",
    "        # Divide el texto en palabras\n",
    "        words = text.split()\n",
    "        # Extrae las últimas n palabras\n",
    "        last_n_words = words[-n:]\n",
    "        # Une las palabras en un solo string\n",
    "        return ' '.join(last_n_words)\n",
    "    else:\n",
    "        return ''  # Retorna una cadena vacía si el texto no es una cadena\n",
    "\n",
    "# Aplicar la función a la columna del DataFrame\n",
    "judgements_2_v['verdict_text'] = judgements_2_v['opinion_text'].apply(lambda x: extract_last_n_words(x, 300))"
   ]
  },
  {
   "cell_type": "code",
   "execution_count": 24,
   "metadata": {},
   "outputs": [],
   "source": [
    "confirm_pattern =re.compile(r'c\\s*o\\s*n\\s*f\\s*i\\s*r\\s*m\\s*', re.IGNORECASE)\n",
    "consent_pattern =re.compile(r'c\\s*o\\s*n\\s*s\\s*e\\s*n\\s*t\\s*', re.IGNORECASE)\n",
    "\n",
    "# Reversal patterns\n",
    "\n",
    "infundada_pattern = re.compile(r'i\\s*n\\s*f\\s*u\\s*n\\s*d\\s*a\\s*', re.IGNORECASE)\n",
    "revoc_pattern = re.compile(r'r\\s*e\\s*v\\s*o\\s*c\\s*', re.IGNORECASE)\n",
    "improcedente_pattern = re.compile(r'i\\s*m\\s*p\\s*r\\s*o\\s*c\\s*e\\s*d\\s*e\\s*n\\s*t\\s*e\\s*', re.IGNORECASE)\n",
    "\n",
    "\n",
    "# Function to classify text based on keywords\n",
    "def classify_text_2(text):\n",
    "    if not isinstance(text, str):\n",
    "        text = str(text) if text is not None else ''\n",
    "    \n",
    "    if confirm_pattern.search(text) or consent_pattern.search(text):\n",
    "        return 'Confirmation'\n",
    "    \n",
    "    elif infundada_pattern.search(text) or revoc_pattern.search(text) or improcedente_pattern.search(text):\n",
    "        return 'Reversal'\n",
    "\n",
    "    else:\n",
    "        return 'Ambiguous'\n",
    "    \n",
    "judgements_2_v['outcome'] = (judgements_2_v['summary'].fillna('') + ' ' + judgements_2_v['resolution_type'].fillna('')+ ' ' + judgements_2_v['verdict_text'].fillna('')).apply(classify_text_2)"
   ]
  },
  {
   "cell_type": "code",
   "execution_count": 25,
   "metadata": {},
   "outputs": [],
   "source": [
    "judgements_2_v.to_csv(rf'D:\\Proyectos\\amag\\classification\\intermediate\\appealed_judgments_outcomes_{year}.csv', index=False)"
   ]
  },
  {
   "cell_type": "markdown",
   "metadata": {},
   "source": [
    "## Second Step of the Filter\n",
    "\n",
    "We will assume that the case files above were solved (we have, at least, 42, 385). We will do the following:\n",
    "\n",
    "1. Remove the closed case files from the sentencias_df.\n",
    "2. Keep only the rows that contains the word 'auto' in the column 'resolution_type'. As it was explained before, if there is no judgement, a procedure could be ended by an 'auto'.\n",
    "3. We will create two datasets, the first one with lower and higher court decisions, and the other one with only the lower court decision. "
   ]
  },
  {
   "cell_type": "code",
   "execution_count": null,
   "metadata": {},
   "outputs": [],
   "source": [
    "orders_df = orders_df[orders_df['resolution_type'].str.contains('auto', case=False, na=False)]"
   ]
  },
  {
   "cell_type": "markdown",
   "metadata": {},
   "source": [
    "There are two ways an order could end a procedure. The first one if the parties, or one of them, request it. The second one is if a judge decides it. \n",
    "\n",
    "Then, we will have three groups:\n",
    "\n",
    "orders_1 = contains casefiles with no appeals\n",
    "\n",
    "orders_2 = contains casefiles with orders that were appealed by the parties"
   ]
  },
  {
   "cell_type": "code",
   "execution_count": null,
   "metadata": {},
   "outputs": [],
   "source": [
    "orders_df['days_difference'] = (orders_df['issued_date'] - orders_df['start_date']).dt.days"
   ]
  },
  {
   "cell_type": "code",
   "execution_count": null,
   "metadata": {},
   "outputs": [],
   "source": [
    "orders_2 = filter_vista_cases(orders_df)\n",
    "orders_1 = separate_case_files(orders_df, orders_2)"
   ]
  },
  {
   "cell_type": "code",
   "execution_count": null,
   "metadata": {},
   "outputs": [],
   "source": [
    "orders_2['second_instance'] = True\n",
    "\n",
    "# Add the 'second_instance' column to orders_1 and set all values to 'No'\n",
    "orders_1['second_instance'] = False "
   ]
  },
  {
   "cell_type": "markdown",
   "metadata": {},
   "source": [
    "**3.1. Our goal is obtain casefiles with only one final decision**"
   ]
  },
  {
   "cell_type": "code",
   "execution_count": null,
   "metadata": {},
   "outputs": [],
   "source": [
    "keywords = ['desistimiento', 'conciliación', 'conciliacion',\n",
    "            'allanamiento', 'transacción', 'reconocimiento', 'abandono',\n",
    "            'transaccion', 'final', 'improcedente', 'archivo definitivo', \n",
    "            'incompetencia', 'improcedencia',\n",
    "            'sustraccion de la materia', 'conclusion']\n",
    "\n",
    "orders_1 = orders_1[orders_1['resolution_type'].str.contains('|'.join(keywords), case=False, na=False)]"
   ]
  },
  {
   "cell_type": "code",
   "execution_count": null,
   "metadata": {},
   "outputs": [],
   "source": [
    "expediente_counts = orders_1['case_file'].value_counts()\n",
    "\n",
    "# Create three subsets based on the specified criteria\n",
    "single_observation = expediente_counts[expediente_counts == 1]\n",
    "second_observations = expediente_counts[expediente_counts == 2]\n",
    "third_observations = expediente_counts[(expediente_counts >= 3) & (expediente_counts <= 10)]\n",
    "\n",
    "total_count = len(expediente_counts)\n",
    "single_percentage = len(single_observation) / total_count * 100\n",
    "second_percentage = len(second_observations) / total_count * 100\n",
    "third_percentage = len(third_observations) / total_count * 100\n",
    "\n",
    "# Plotting\n",
    "plt.figure(figsize=(10, 6))\n",
    "\n",
    "labels = ['One Decision', 'Two Decisions', 'Many Decisions']\n",
    "sizes = [single_percentage, second_percentage, third_percentage]\n",
    "colors = ['blue', 'orange', 'green']\n",
    "\n",
    "plt.pie(sizes, labels=labels, colors=colors, autopct='%1.1f%%', startangle=90)\n",
    "plt.title('Distribution of Decision per Casefile')\n",
    "\n",
    "plt.show()"
   ]
  },
  {
   "cell_type": "code",
   "execution_count": null,
   "metadata": {},
   "outputs": [],
   "source": [
    "expediente_counts = orders_1['case_file'].value_counts()\n",
    "expediente_counts"
   ]
  },
  {
   "cell_type": "markdown",
   "metadata": {},
   "source": [
    "**3.2. Working with appealed orders** "
   ]
  },
  {
   "cell_type": "code",
   "execution_count": null,
   "metadata": {},
   "outputs": [],
   "source": [
    "# We must identify the first instance decision autos in the case files\n",
    "\n",
    "keywords = ['desistimiento', 'conciliación', 'conciliacion',\n",
    "            'allanamiento', 'transacción', 'reconocimiento', 'abandono',\n",
    "            'transaccion', 'final', 'improcedente', 'archivo definitivo', \n",
    "            'incompetencia', 'improcedencia',\n",
    "            'sustraccion de la materia', 'conclusion']\n",
    "\n",
    "orders_2_v = filter_keywords_cases(orders_2, keywords)"
   ]
  },
  {
   "cell_type": "code",
   "execution_count": null,
   "metadata": {},
   "outputs": [],
   "source": [
    "keywords = ['desistimiento', 'conciliación', 'conciliacion',\n",
    "            'allanamiento', 'transacción', 'reconocimiento', 'abandono',\n",
    "            'transaccion', 'final', 'improcedente', 'archivo definitivo', \n",
    "            'incompetencia', 'improcedencia',\n",
    "            'sustraccion de la materia', 'conclusion', 'vista']\n",
    "\n",
    "orders_2_v = orders_2_v[orders_2_v['resolution_type'].str.contains('|'.join(keywords), case=False, na=False)]"
   ]
  },
  {
   "cell_type": "code",
   "execution_count": null,
   "metadata": {},
   "outputs": [],
   "source": [
    "expediente_counts = orders_2_v['case_file'].value_counts()\n",
    "\n",
    "# Create three subsets based on the specified criteria\n",
    "single_observation = expediente_counts[expediente_counts == 1]\n",
    "second_observations = expediente_counts[expediente_counts == 2]\n",
    "third_observations = expediente_counts[(expediente_counts >= 3) & (expediente_counts <= 10)]\n",
    "\n",
    "total_count = len(expediente_counts)\n",
    "single_percentage = len(single_observation) / total_count * 100\n",
    "second_percentage = len(second_observations) / total_count * 100\n",
    "third_percentage = len(third_observations) / total_count * 100\n",
    "\n",
    "# Plotting\n",
    "plt.figure(figsize=(10, 6))\n",
    "\n",
    "labels = ['One Decision', 'Two Decisions', 'Many Decisions']\n",
    "sizes = [single_percentage, second_percentage, third_percentage]\n",
    "colors = ['blue', 'orange', 'green']\n",
    "\n",
    "plt.pie(sizes, labels=labels, colors=colors, autopct='%1.1f%%', startangle=90)\n",
    "plt.title('Distribution of Decision per Casefile')\n",
    "\n",
    "plt.show()"
   ]
  },
  {
   "cell_type": "code",
   "execution_count": null,
   "metadata": {},
   "outputs": [],
   "source": [
    "orders_case_file = pd.concat([orders_1, orders_2], ignore_index=True)"
   ]
  },
  {
   "cell_type": "code",
   "execution_count": null,
   "metadata": {},
   "outputs": [],
   "source": [
    "# Fixing the names with BERT\n",
    "\n",
    "# Apply the function to the 'JUDGE_FROM_OPINION' column and create the 'SCORE' column\n",
    "orders_case_file['score'] = orders_case_file['judge_from_opinion'].apply(get_score)\n",
    "\n",
    "orders_case_file.loc[orders_case_file['score'] < 0.998, 'judge_from_opinion'] = np.nan  # Set NaN where score > 0.998\n",
    "\n",
    "# Copy content from 'judge' to 'judge_from_opinion' where 'judge_from_opinion' is empty\n",
    "orders_case_file['judge_from_opinion'].replace('', np.nan, inplace=True)  # Ensure empty strings are treated as NaN\n",
    "orders_case_file['judge_from_opinion'].fillna(orders_case_file['judge'], inplace=True)"
   ]
  },
  {
   "cell_type": "code",
   "execution_count": null,
   "metadata": {},
   "outputs": [],
   "source": [
    "orders_case_file.to_csv(rf'D:\\Proyectos\\amag\\classification\\intermediate\\orders_case_file_{year}.csv', index=False)"
   ]
  },
  {
   "cell_type": "code",
   "execution_count": 87,
   "metadata": {},
   "outputs": [],
   "source": [
    "import pandas as pd\n",
    "import regex as re\n",
    "\n",
    "year = '2022'\n",
    "\n",
    "orders = pd.read_csv(rf'D:\\Proyectos\\amag\\classification\\intermediate\\orders_case_file_{year}.csv')\n",
    "def extract_last_n_words(text, n=300):\n",
    "    # Verifica si el texto es una cadena\n",
    "    if isinstance(text, str):\n",
    "        # Divide el texto en palabras\n",
    "        words = text.split()\n",
    "        # Extrae las últimas n palabras\n",
    "        last_n_words = words[-n:]\n",
    "        # Une las palabras en un solo string\n",
    "        return ' '.join(last_n_words)\n",
    "    else:\n",
    "        return ''  # Retorna una cadena vacía si el texto no es una cadena\n",
    "\n",
    "\n",
    "# Aplicar la función a la columna del DataFrame\n",
    "orders['verdict_text'] = orders['opinion_text'].apply(lambda x: extract_last_n_words(x, 300))\n",
    "\n",
    "orders_2_inst = orders[orders['resolution_type'].str.contains('vista', case=False, na=False)]"
   ]
  },
  {
   "cell_type": "code",
   "execution_count": 26,
   "metadata": {},
   "outputs": [
    {
     "name": "stderr",
     "output_type": "stream",
     "text": [
      "C:\\Users\\PC\\AppData\\Local\\Temp\\ipykernel_17876\\3057595888.py:54: SettingWithCopyWarning: \n",
      "A value is trying to be set on a copy of a slice from a DataFrame.\n",
      "Try using .loc[row_indexer,col_indexer] = value instead\n",
      "\n",
      "See the caveats in the documentation: https://pandas.pydata.org/pandas-docs/stable/user_guide/indexing.html#returning-a-view-versus-a-copy\n",
      "  orders_1_inst['outcome'] = (orders_1_inst['summary'].fillna('') + ' ' + orders_1_inst['resolution_type'].fillna('')+ ' ' + orders_1_inst['verdict_text'].fillna('')).apply(classify_text)\n"
     ]
    }
   ],
   "source": [
    "conciliacion_pattern = re.compile(r'c\\s*o\\s*n\\s*c\\s*i\\s*l\\s*i\\s*a\\s*', re.IGNORECASE)\n",
    "transaccion_pattern = re.compile(r't\\s*r\\s*a\\s*n\\s*s\\s*a\\s*c\\s*c\\s*i\\s*o\\s*n\\s*', re.IGNORECASE)\n",
    "\n",
    "# Dropped by plaintiff patterns\n",
    "\n",
    "abandono_pattern = re.compile(r'a\\s*b\\s*a\\s*n\\s*d\\s*o\\s*n\\s*o\\s*', re.IGNORECASE)\n",
    "desistimiento_pattern = re.compile(r'd\\s*e\\s*s\\s*i\\s*s\\s*t\\s*i\\s*m\\s*i\\s*e\\s*n\\s*t\\s*o\\s*', re.IGNORECASE)\n",
    "inasist_pattern = re.compile(r'i\\s*n\\s*a\\s*s\\s*i\\s*s\\s*t\\s*', re.IGNORECASE)\n",
    "\n",
    "\n",
    "# Negative patterns\n",
    "\n",
    "infundada_pattern = re.compile(r'i\\s*n\\s*f\\s*u\\s*n\\s*d\\s*a\\s*', re.IGNORECASE)\n",
    "improcedente_pattern = re.compile(r'i\\s*m\\s*p\\s*r\\s*o\\s*c\\s*e\\s*d\\s*e\\s*n\\s*t\\s*e\\s*', re.IGNORECASE)\n",
    "rechazar_pattern = re.compile(r'r\\s*e\\s*c\\s*h\\s*a\\s*z\\s*a\\s*r\\s*', re.IGNORECASE)\n",
    "nulidad_pattern = re.compile(r'n\\s*u\\s*l\\s*i\\s*d\\s*a\\s*d\\s*', re.IGNORECASE)    \n",
    "incompentencia_pattern = re.compile(r'i\\s*n\\s*c\\s*o\\s*m\\s*p\\s*e\\s*t\\s*e\\s*n\\s*c\\s*i\\s*a\\s*', re.IGNORECASE)\n",
    "sin_declaración_pattern = re.compile(r's\\s*i\\s*n\\s*d\\s*e\\s*c\\s*l\\s*a\\s*r\\s*a\\s*c\\s*i\\s*ó\\s*n\\s*', re.IGNORECASE)\n",
    "\n",
    "# Partial patterns\n",
    "\n",
    "fundada_en_parte_pattern = re.compile(r'f\\s*u\\s*n\\s*d\\s*a\\s*d\\s*a\\s*e\\s*n\\s*p\\s*a\\s*r\\s*t\\s*e\\s*', re.IGNORECASE)\n",
    "\n",
    "# Positive patterns\n",
    "\n",
    "fundada_pattern = re.compile(r'f\\s*u\\s*n\\s*d\\s*a\\s*d\\s*a\\s*', re.IGNORECASE)\n",
    "llevar_adelante_pattern = re.compile(r'l\\s*l\\s*e\\s*v\\s*a\\s*r\\s*\\s*a\\s*d\\s*e\\s*l\\s*a\\s*n\\s*t\\s*e\\s*', re.IGNORECASE)\n",
    "allana_pattern = re.compile(r'a\\s*l\\s*l\\s*a\\s*n\\s*a\\s*', re.IGNORECASE)\n",
    "adelante_pattern = re.compile(r'a\\s*d\\s*e\\s*l\\s*a\\s*n\\s*t\\s*e\\s*', re.IGNORECASE)\n",
    "\n",
    "# Function to classify text based on keywords\n",
    "def classify_text(text):\n",
    "    if not isinstance(text, str):\n",
    "        text = str(text) if text is not None else ''\n",
    "    \n",
    "    if conciliacion_pattern.search(text) or transaccion_pattern.search(text):\n",
    "        return 'Settlement'\n",
    "    \n",
    "    elif abandono_pattern.search(text) or desistimiento_pattern.search(text) or inasist_pattern.search(text):\n",
    "        return 'Dropped by Plaintiff'\n",
    "    \n",
    "    elif fundada_en_parte_pattern.search(text):\n",
    "        return 'Partial'\n",
    "    \n",
    "    elif infundada_pattern.search(text) or improcedente_pattern.search(text) or rechazar_pattern.search(text) or nulidad_pattern.search(text) or incompentencia_pattern.search(text) or sin_declaración_pattern.search(text):\n",
    "        return 'Defendant'\n",
    "    \n",
    "    elif fundada_pattern.search(text) or llevar_adelante_pattern.search(text) or allana_pattern.search(text) or adelante_pattern.search(text):\n",
    "        return 'Plaintiff'\n",
    "\n",
    "    else:\n",
    "        return 'Ambiguous'\n",
    "    \n",
    "orders_1_inst['outcome'] = (orders_1_inst['summary'].fillna('') + ' ' + orders_1_inst['resolution_type'].fillna('')+ ' ' + orders_1_inst['verdict_text'].fillna('')).apply(classify_text)"
   ]
  },
  {
   "cell_type": "code",
   "execution_count": 27,
   "metadata": {},
   "outputs": [
    {
     "data": {
      "image/png": "[encoded data removed]",
      "text/plain": [
       "<Figure size 800x800 with 1 Axes>"
      ]
     },
     "metadata": {},
     "output_type": "display_data"
    }
   ],
   "source": [
    "import matplotlib.pyplot as plt\n",
    "\n",
    "outcome_counts = orders_1_inst['outcome'].value_counts()\n",
    "\n",
    "# Create a pie chart\n",
    "plt.figure(figsize=(8, 8))\n",
    "plt.pie(outcome_counts, labels=outcome_counts.index, autopct='%1.1f%%', startangle=140)\n",
    "plt.title('Distribution of Outcomes')\n",
    "plt.show()"
   ]
  },
  {
   "cell_type": "code",
   "execution_count": 88,
   "metadata": {},
   "outputs": [
    {
     "name": "stderr",
     "output_type": "stream",
     "text": [
      "C:\\Users\\PC\\AppData\\Local\\Temp\\ipykernel_17876\\106749589.py:25: SettingWithCopyWarning: \n",
      "A value is trying to be set on a copy of a slice from a DataFrame.\n",
      "Try using .loc[row_indexer,col_indexer] = value instead\n",
      "\n",
      "See the caveats in the documentation: https://pandas.pydata.org/pandas-docs/stable/user_guide/indexing.html#returning-a-view-versus-a-copy\n",
      "  orders_2_inst['outcome'] = (orders_2_inst['summary'].fillna('') + ' ' + orders_2_inst['resolution_type'].fillna('')+ ' ' + orders_2_inst['verdict_text'].fillna('')).apply(classify_text_2)\n"
     ]
    }
   ],
   "source": [
    "confirm_pattern =re.compile(r'c\\s*o\\s*n\\s*f\\s*i\\s*r\\s*m\\s*', re.IGNORECASE)\n",
    "consent_pattern =re.compile(r'c\\s*o\\s*n\\s*s\\s*e\\s*n\\s*t\\s*', re.IGNORECASE)\n",
    "\n",
    "# Reversal patterns\n",
    "\n",
    "revoc_pattern = re.compile(r'r\\s*e\\s*v\\s*o\\s*c\\s*', re.IGNORECASE)\n",
    "improcedente_pattern = re.compile(r'i\\s*m\\s*p\\s*r\\s*o\\s*c\\s*e\\s*d\\s*e\\s*n\\s*t\\s*e\\s*', re.IGNORECASE)\n",
    "nul_pattern = re.compile(r'n\\s*u\\s*l\\s*', re.IGNORECASE)\n",
    "\n",
    "\n",
    "# Function to classify text based on keywords\n",
    "def classify_text_2(text):\n",
    "    if not isinstance(text, str):\n",
    "        text = str(text) if text is not None else ''\n",
    "    \n",
    "    if confirm_pattern.search(text) or consent_pattern.search(text):\n",
    "        return 'Confirmation'\n",
    "    \n",
    "    elif  revoc_pattern.search(text) or improcedente_pattern.search(text) or nul_pattern.search(text):\n",
    "        return 'Reversal'\n",
    "\n",
    "    else:\n",
    "        return 'Ambiguous'\n",
    "    \n",
    "orders_2_inst['outcome'] = (orders_2_inst['summary'].fillna('') + ' ' + orders_2_inst['resolution_type'].fillna('')+ ' ' + orders_2_inst['verdict_text'].fillna('')).apply(classify_text_2)"
   ]
  },
  {
   "cell_type": "code",
   "execution_count": 89,
   "metadata": {},
   "outputs": [
    {
     "data": {
      "image/png": "[encoded data removed]",
      "text/plain": [
       "<Figure size 800x800 with 1 Axes>"
      ]
     },
     "metadata": {},
     "output_type": "display_data"
    }
   ],
   "source": [
    "outcome_counts = orders_2_inst['outcome'].value_counts()\n",
    "\n",
    "# Create a pie chart\n",
    "plt.figure(figsize=(8, 8))\n",
    "plt.pie(outcome_counts, labels=outcome_counts.index, autopct='%1.1f%%', startangle=140)\n",
    "plt.title('Distribution of Outcomes')\n",
    "plt.show()"
   ]
  },
  {
   "cell_type": "code",
   "execution_count": 90,
   "metadata": {},
   "outputs": [],
   "source": [
    "orders_2_inst.to_csv(rf'D:\\Proyectos\\amag\\classification\\intermediate\\appealed_orders_outcomes_{year}.csv', index=False)"
   ]
  }
 ],
 "metadata": {
  "kernelspec": {
   "display_name": "Python 3",
   "language": "python",
   "name": "python3"
  },
  "language_info": {
   "codemirror_mode": {
    "name": "ipython",
    "version": 3
   },
   "file_extension": ".py",
   "mimetype": "text/x-python",
   "name": "python",
   "nbconvert_exporter": "python",
   "pygments_lexer": "ipython3",
   "version": "3.12.1"
  }
 },
 "nbformat": 4,
 "nbformat_minor": 2
}
