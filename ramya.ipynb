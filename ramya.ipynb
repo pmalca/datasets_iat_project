{
 "cells": [
  {
   "cell_type": "code",
   "execution_count": 1,
   "metadata": {},
   "outputs": [],
   "source": [
    "import pandas as pd"
   ]
  },
  {
   "cell_type": "code",
   "execution_count": null,
   "metadata": {},
   "outputs": [],
   "source": [
    "df_downloads = pd.read_csv(r'd:\\Proyectos\\daniel_peru\\ramya\\DF_DOWNLOADS.csv')\n",
    "df_follow_up = pd.read_csv(r'd:\\Proyectos\\daniel_peru\\ramya\\DF_follow_up.csv')"
   ]
  }
 ],
 "metadata": {
  "kernelspec": {
   "display_name": "datasets_iat",
   "language": "python",
   "name": "python3"
  },
  "language_info": {
   "codemirror_mode": {
    "name": "ipython",
    "version": 3
   },
   "file_extension": ".py",
   "mimetype": "text/x-python",
   "name": "python",
   "nbconvert_exporter": "python",
   "pygments_lexer": "ipython3",
   "version": "3.12.1"
  }
 },
 "nbformat": 4,
 "nbformat_minor": 2
}
