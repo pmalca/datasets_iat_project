{
 "cells": [
  {
   "cell_type": "code",
   "execution_count": 56,
   "metadata": {},
   "outputs": [],
   "source": [
    "import pandas as pd\n",
    "import openpyxl"
   ]
  },
  {
   "cell_type": "code",
   "execution_count": 57,
   "metadata": {},
   "outputs": [],
   "source": [
    "year = '2018'"
   ]
  },
  {
   "cell_type": "code",
   "execution_count": 58,
   "metadata": {},
   "outputs": [
    {
     "name": "stderr",
     "output_type": "stream",
     "text": [
      "C:\\Users\\PC\\AppData\\Local\\Temp\\ipykernel_12604\\2031918126.py:1: FutureWarning: The error_bad_lines argument has been deprecated and will be removed in a future version. Use on_bad_lines in the future.\n",
      "\n",
      "\n",
      "  df_follow = pd.read_csv(rf\"C:\\Users\\PC\\Daniel Chen Dropbox\\Alexis Malca\\Peru_Justice\\02_Data\\08_CEJ_Web\\data_cleaned\\DF_follow_up_cleaner_{year}.csv\", error_bad_lines=False)\n",
      "Skipping line 147793: expected 10 fields, saw 18\n",
      "\n",
      "Skipping line 403502: expected 10 fields, saw 14\n",
      "Skipping line 403503: expected 10 fields, saw 13\n",
      "Skipping line 406865: expected 10 fields, saw 19\n",
      "Skipping line 411463: expected 10 fields, saw 19\n",
      "Skipping line 417503: expected 10 fields, saw 21\n",
      "Skipping line 424997: expected 10 fields, saw 16\n",
      "Skipping line 426098: expected 10 fields, saw 11\n",
      "Skipping line 426296: expected 10 fields, saw 12\n",
      "Skipping line 432261: expected 10 fields, saw 13\n",
      "Skipping line 433084: expected 10 fields, saw 12\n",
      "Skipping line 436799: expected 10 fields, saw 16\n",
      "\n",
      "Skipping line 556892: expected 10 fields, saw 16\n",
      "Skipping line 566502: expected 10 fields, saw 20\n",
      "\n",
      "Skipping line 827140: expected 10 fields, saw 25\n",
      "\n",
      "Skipping line 937523: expected 10 fields, saw 21\n",
      "\n",
      "Skipping line 1050871: expected 10 fields, saw 12\n",
      "Skipping line 1093747: expected 10 fields, saw 21\n",
      "Skipping line 1093766: expected 10 fields, saw 18\n",
      "Skipping line 1096687: expected 10 fields, saw 15\n",
      "Skipping line 1112210: expected 10 fields, saw 11\n",
      "\n",
      "Skipping line 1115300: expected 10 fields, saw 11\n",
      "Skipping line 1128023: expected 10 fields, saw 29\n",
      "Skipping line 1155564: expected 10 fields, saw 14\n",
      "Skipping line 1160605: expected 10 fields, saw 11\n",
      "Skipping line 1164815: expected 10 fields, saw 14\n",
      "Skipping line 1168982: expected 10 fields, saw 14\n",
      "\n",
      "Skipping line 1190923: expected 10 fields, saw 14\n",
      "Skipping line 1207009: expected 10 fields, saw 13\n",
      "Skipping line 1239142: expected 10 fields, saw 12\n",
      "\n",
      "Skipping line 1266120: expected 10 fields, saw 23\n",
      "\n",
      "Skipping line 1417167: expected 10 fields, saw 24\n",
      "\n",
      "Skipping line 1492578: expected 10 fields, saw 19\n",
      "\n",
      "Skipping line 1596819: expected 10 fields, saw 11\n",
      "\n",
      "Skipping line 1641454: expected 10 fields, saw 11\n",
      "Skipping line 1659219: expected 10 fields, saw 11\n",
      "Skipping line 1669454: expected 10 fields, saw 11\n",
      "Skipping line 1681275: expected 10 fields, saw 15\n",
      "Skipping line 1703396: expected 10 fields, saw 12\n",
      "\n"
     ]
    }
   ],
   "source": [
    "df_follow = pd.read_csv(rf\"C:\\Users\\PC\\Daniel Chen Dropbox\\Alexis Malca\\Peru_Justice\\02_Data\\08_CEJ_Web\\data_cleaned\\DF_follow_up_cleaner_{year}.csv\", error_bad_lines=False)\n",
    "df_follow = df_follow.dropna(subset=['link'])\n",
    "df_file = pd.read_csv(rf\"C:\\Users\\PC\\Daniel Chen Dropbox\\Alexis Malca\\Peru_Justice\\02_Data\\08_CEJ_Web\\data_cleaned\\DF_file_report_{year}.csv\")\n",
    "df_file = df_file.drop_duplicates()"
   ]
  },
  {
   "cell_type": "code",
   "execution_count": 59,
   "metadata": {},
   "outputs": [],
   "source": [
    "# Step 1: Identify duplicated 'Expediente:' values\n",
    "duplicated_expedientes = df_file[df_file.duplicated(subset=['Expediente N°:'], keep=False)]\n",
    "# Step 2: Identify rows with '<NO DEFINIDO>' in 'Juez:'\n",
    "no_definido_juez_rows = df_file[df_file['Juez:'] == '<NO DEFINIDO>']\n",
    "# Step 3: Combine conditions to identify rows to drop\n",
    "rows_to_drop = duplicated_expedientes[duplicated_expedientes['Juez:'] == '<NO DEFINIDO>'].index\n",
    "# Step 4: Drop identified rows from the original DataFrame\n",
    "df_file = df_file.drop(index=rows_to_drop)"
   ]
  },
  {
   "cell_type": "code",
   "execution_count": 60,
   "metadata": {},
   "outputs": [],
   "source": [
    "columns_to_include = ['Expediente N°:', 'Órgano Jurisdiccional:', 'Distrito Judicial:', 'Juez:', 'Fecha de Inicio:',\n",
    "                      'Proceso:','Observación:','Especialidad:','Materia(s):'] \n",
    "\n",
    "# Select only the specified columns from df_follow\n",
    "df_file = df_file[columns_to_include]"
   ]
  },
  {
   "cell_type": "code",
   "execution_count": 61,
   "metadata": {},
   "outputs": [],
   "source": [
    "step_1 = pd.merge(df_follow, df_file, on='Expediente N°:', how='left')\n",
    "step_1 = step_1.drop_duplicates()"
   ]
  },
  {
   "cell_type": "code",
   "execution_count": 62,
   "metadata": {},
   "outputs": [],
   "source": [
    "df_downloads = pd.read_csv(rf\"C:\\Users\\PC\\Daniel Chen Dropbox\\Alexis Malca\\Peru_Justice\\02_Data\\08_CEJ_Web\\data_cleaned\\DF_DOWNLOADS_{year}.csv\")\n",
    "df_downloads = df_downloads.drop_duplicates(subset=['link'])"
   ]
  },
  {
   "cell_type": "code",
   "execution_count": 63,
   "metadata": {},
   "outputs": [],
   "source": [
    "step_2 = pd.merge(step_1, df_downloads, on='link', how='left')\n",
    "\n",
    "columns_to_remove = [\n",
    "    'Tipo de Notificación:',\n",
    "    'Fojas/Folios:',\n",
    "    'Descripción de Usuario:',\n",
    "    'expediente_num',\n",
    "    'num',\n",
    "    'error',\n",
    "    'file_path',\n",
    "    'Observación:'\n",
    "]\n",
    "\n",
    "# Remove the specified columns\n",
    "step_2 = step_2.drop(columns=columns_to_remove)"
   ]
  },
  {
   "cell_type": "code",
   "execution_count": 64,
   "metadata": {},
   "outputs": [],
   "source": [
    "new_columns = {\n",
    "    'Expediente N°:': 'case_file',\n",
    "    'link': 'id',\n",
    "    'Fecha de Resolución/Ingreso:': 'issued_date',\n",
    "    'Resolución:': 'resolution_number',\n",
    "    'Acto:': 'resolution_type',\n",
    "    'Proveido:': 'notified_date',\n",
    "    'Sumilla:': 'summary',\n",
    "    'Órgano Jurisdiccional:': 'court',\n",
    "    'Distrito Judicial:': 'judicial_district',\n",
    "    'Juez:': 'judge',\n",
    "    'Especialista Legal:': 'clerk',\n",
    "    'Fecha de Inicio:': 'start_date',\n",
    "    'Proceso:': 'procedure_type',\n",
    "    'Especialidad:': 'law_field',\n",
    "    'Materia(s):': 'sub_law_field',\n",
    "    'Estado:': 'status',\n",
    "    'Etapa Procesal:': 'procedural_stage',\n",
    "    'text': 'opinion_text'\n",
    "}\n",
    "\n",
    "# Rename the columns\n",
    "step_2 = step_2.rename(columns=new_columns)"
   ]
  },
  {
   "cell_type": "code",
   "execution_count": 65,
   "metadata": {},
   "outputs": [
    {
     "name": "stderr",
     "output_type": "stream",
     "text": [
      "C:\\Users\\PC\\AppData\\Local\\Temp\\ipykernel_12604\\1359599876.py:9: UserWarning: Parsing dates in DD/MM/YYYY format when dayfirst=False (the default) was specified. This may lead to inconsistently parsed dates! Specify a format to ensure consistent parsing.\n",
      "  step_2['issued_date'] = pd.to_datetime(step_2['issued_date'], errors='coerce')\n"
     ]
    }
   ],
   "source": [
    "from datetime import datetime\n",
    "\n",
    "step_2['start_date'] = step_2['start_date'].str.strip()\n",
    "\n",
    "# Convert 'start_date' column to datetime format\n",
    "step_2['start_date'] = pd.to_datetime(step_2['start_date'], format='%d/%m/%Y', errors='coerce')\n",
    "\n",
    "# Convert 'issued_date' column to datetime format\n",
    "step_2['issued_date'] = pd.to_datetime(step_2['issued_date'], errors='coerce')"
   ]
  },
  {
   "cell_type": "code",
   "execution_count": 66,
   "metadata": {},
   "outputs": [],
   "source": [
    "import regex as re \n",
    "\n",
    "# # Define patterns\n",
    "pattern1 = r'J\\s*U\\s*E\\s*Z\\s*:\\s*'\n",
    "pattern3 = r'\\n'\n",
    "\n",
    "# Extract text using regex\n",
    "def extract_judge(row):\n",
    "    opinion_text = row['opinion_text']\n",
    "    \n",
    "    # Ensure the opinion_text is a string\n",
    "    if not isinstance(opinion_text, str):\n",
    "        return None\n",
    "    \n",
    "    match1 = re.search(pattern1, opinion_text, flags=re.IGNORECASE | re.DOTALL)\n",
    "\n",
    "    if match1:\n",
    "        start_index = match1.end()\n",
    "        # Find the next newline after the start_index\n",
    "        match3 = re.search(pattern3, opinion_text[start_index:], flags=re.IGNORECASE | re.DOTALL)\n",
    "        \n",
    "        if match3:\n",
    "            end_index = start_index + match3.start()\n",
    "        else:\n",
    "            end_index = len(opinion_text)\n",
    "\n",
    "        return opinion_text[start_index:end_index].strip()\n",
    "    else:\n",
    "        return None"
   ]
  },
  {
   "cell_type": "code",
   "execution_count": 67,
   "metadata": {},
   "outputs": [],
   "source": [
    "step_2['judge_from_opinion'] = step_2.apply(extract_judge, axis = 1)"
   ]
  },
  {
   "cell_type": "code",
   "execution_count": 68,
   "metadata": {},
   "outputs": [],
   "source": [
    "step_2.to_csv(rf\"D:\\Proyectos\\amag\\case_files_{year}.csv\", index=False)"
   ]
  }
 ],
 "metadata": {
  "kernelspec": {
   "display_name": "Python 3",
   "language": "python",
   "name": "python3"
  },
  "language_info": {
   "codemirror_mode": {
    "name": "ipython",
    "version": 3
   },
   "file_extension": ".py",
   "mimetype": "text/x-python",
   "name": "python",
   "nbconvert_exporter": "python",
   "pygments_lexer": "ipython3",
   "version": "3.12.1"
  }
 },
 "nbformat": 4,
 "nbformat_minor": 2
}
